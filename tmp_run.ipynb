{
 "cells": [
  {
   "cell_type": "code",
   "execution_count": 1,
   "id": "initial_id",
   "metadata": {
    "collapsed": true,
    "ExecuteTime": {
     "end_time": "2024-07-25T06:34:08.570353600Z",
     "start_time": "2024-07-25T06:34:08.569390400Z"
    }
   },
   "outputs": [],
   "source": [
    "%load_ext autoreload\n",
    "%autoreload 2"
   ]
  },
  {
   "cell_type": "code",
   "outputs": [
    {
     "name": "stdout",
     "output_type": "stream",
     "text": [
      "导入预训练权重成功\n"
     ]
    }
   ],
   "source": [
    "from lib.models.LeeNet.score_os_sigma_center import build_score_os_sigma_center\n",
    "from lib.config.cfg_loader import env_setting\n",
    "import torch\n",
    "\n",
    "cfg = env_setting(cfg_name=\"plscore_os_sigma_RGBT.yaml\")\n",
    "# print(cfg)\n",
    "\n",
    "net = build_score_os_sigma_center(cfg)\n",
    "\n",
    "# 导入预训练权重\n",
    "pretrained = \"/media/star/data/Leezed/workspace/LeeNet/pretrained/OSTrack_ep0300.pth.tar\"\n",
    "# pretrained = \"/media/star/data/Leezed/workspace/LeeNet/checkpoints/LeeNet_plScore_OS_sigma_CENTER/ScoreOSCENTER_ep0012.pth.tar\"\n",
    "# pretrained = \"/media/star/data/Leezed/workspace/LeeNet/checkpoints/LeeNet_plScore_OS_sigma_CENTER/ScoreOSCENTER_ep0080.pth.tar\"\n",
    "# pretrained = \"/media/star/data/Leezed/workspace/LeeNet/pretrained/BAT_rgbt.pth\"\n",
    "checkpoint = torch.load(pretrained)['net']\n",
    "\n",
    "model_dict = net.state_dict()\n",
    "state_dict = {k: v for k, v in checkpoint.items() if k in model_dict.keys()}\n",
    "for k,v in checkpoint.items():\n",
    "    if 'block' in k:\n",
    "        tmp = k.replace('block', 'm_blocks')\n",
    "        state_dict[tmp] = v\n",
    "model_dict.update(state_dict)\n",
    "net.load_state_dict(model_dict, strict=False)\n",
    "print(\"导入预训练权重成功\")\n",
    "\n",
    "\n"
   ],
   "metadata": {
    "collapsed": false,
    "ExecuteTime": {
     "end_time": "2024-07-27T04:58:06.417070300Z",
     "start_time": "2024-07-27T04:58:02.330882200Z"
    }
   },
   "id": "1466f8adad262013",
   "execution_count": 6
  },
  {
   "cell_type": "code",
   "outputs": [
    {
     "name": "stderr",
     "output_type": "stream",
     "text": [
      "/usr/local/anaconda/envs/lzd-LeeNet/lib/python3.8/site-packages/tqdm/auto.py:21: TqdmWarning: IProgress not found. Please update jupyter and ipywidgets. See https://ipywidgets.readthedocs.io/en/stable/user_install.html\n",
      "  from .autonotebook import tqdm as notebook_tqdm\n"
     ]
    }
   ],
   "source": [
    "from lib.actor.LeeNet import LeeNetActor\n",
    "from lib.models.backbone.plscore_RMT_sigma import PLScoreRMT\n",
    "from lib.models.LeeNet.score_RMT_sigma_center import ScorePureRMTCENTER\n",
    "from lib.models.layer.RMT import PatchMerging\n",
    "from lib.models.head.center_predictor import CenterPredictor\n",
    "from lib.trainer.LeeNet_trainer import LeeNetTrainer\n",
    "from lib.utils.base_funtion import build_dataloaders, get_optimizer_scheduler\n",
    "from lib.config.cfg_loader import env_setting\n",
    "from torch.nn.functional import l1_loss\n",
    "from torch.nn import BCEWithLogitsLoss\n",
    "from lib.utils.box_ops import giou_loss\n",
    "from lib.utils.focal_loss import FocalLoss\n",
    "import torch\n",
    "import torch.backends.cudnn\n",
    "\n",
    "\n",
    "def build_model(cfg):\n",
    "    backbone = PLScoreRMT(down_sample=PatchMerging, cfg=cfg)\n",
    "\n",
    "    stride = cfg.model.backbone.stride\n",
    "    feat_sz = int(cfg.data.search.size / stride)\n",
    "    head = CenterPredictor(inplanes=cfg.model.pureRMT.embed_dim[-1], channel=cfg.model.head.num_channels, feat_sz=feat_sz, stride=stride)\n",
    "    model = ScorePureRMTCENTER(backbone, head, cfg)\n",
    "    return model"
   ],
   "metadata": {
    "collapsed": false,
    "ExecuteTime": {
     "end_time": "2024-06-19T06:33:23.515479400Z",
     "start_time": "2024-06-19T06:33:21.740132700Z"
    }
   },
   "id": "30fca21eced96d0a",
   "execution_count": 2
  },
  {
   "cell_type": "code",
   "outputs": [],
   "source": [
    "torch.backends.cudnn.benchmark = True\n",
    "\n",
    "cfg = env_setting(cfg_name=\"plscore_pureRMT_sigma_center.yaml\")\n",
    "\n",
    "loader_train, loader_val = build_dataloaders(cfg)\n",
    "\n",
    "net = build_model(cfg)\n",
    "\n",
    "focal_loss = FocalLoss()\n",
    "objective = {'giou': giou_loss, 'l1': l1_loss, 'focal': focal_loss, 'cls': BCEWithLogitsLoss()}\n",
    "loss_weight = {'giou': cfg.train.GIOU_weight, 'l1': cfg.train.L1_weight, 'focal': 1., 'cls': 1.0}\n",
    "actor = LeeNetActor(net=net, objective=objective, loss_weight=loss_weight, cfg=cfg)\n",
    "\n",
    "optimizer, lr_scheduler = get_optimizer_scheduler(net, cfg)\n",
    "\n",
    "trainer = LeeNetTrainer(actor=actor, loaders=[loader_train, loader_val], optimizer=optimizer, lr_scheduler=lr_scheduler, cfg=cfg)"
   ],
   "metadata": {
    "collapsed": false,
    "ExecuteTime": {
     "end_time": "2024-06-19T06:33:25.246704600Z",
     "start_time": "2024-06-19T06:33:23.519470700Z"
    }
   },
   "id": "99089b02971c220a",
   "execution_count": 3
  },
  {
   "cell_type": "code",
   "outputs": [],
   "source": [
    "trainer.train(cfg.train.epoch)"
   ],
   "metadata": {
    "collapsed": false
   },
   "id": "1057de9bd0aeecbb",
   "execution_count": null
  }
 ],
 "metadata": {
  "kernelspec": {
   "display_name": "Python 3",
   "language": "python",
   "name": "python3"
  },
  "language_info": {
   "codemirror_mode": {
    "name": "ipython",
    "version": 2
   },
   "file_extension": ".py",
   "mimetype": "text/x-python",
   "name": "python",
   "nbconvert_exporter": "python",
   "pygments_lexer": "ipython2",
   "version": "2.7.6"
  }
 },
 "nbformat": 4,
 "nbformat_minor": 5
}
