{
 "cells": [
  {
   "cell_type": "code",
   "execution_count": 2,
   "id": "initial_id",
   "metadata": {
    "collapsed": true,
    "ExecuteTime": {
     "end_time": "2024-08-05T14:14:19.423277800Z",
     "start_time": "2024-08-05T14:14:18.918071500Z"
    }
   },
   "outputs": [],
   "source": [
    "import matplotlib.pyplot as plt\n",
    "from collections import OrderedDict\n",
    "import re\n",
    "\n",
    "\n",
    "def find_first_appear_number(s):\n",
    "    num = 0\n",
    "    for i, c in enumerate(s):\n",
    "        if c.isdigit():\n",
    "            num = num * 10 + int(c)\n",
    "        else:\n",
    "            if num == 0:\n",
    "                continue\n",
    "            else:\n",
    "                break\n",
    "    return num\n",
    "\n",
    "\n",
    "def read_loss_file(file_path, mode='train'):\n",
    "    with open(file_path, 'r') as f:\n",
    "        lines = f.readlines()\n",
    "    info = OrderedDict()\n",
    "    for i, line in enumerate(lines):\n",
    "        if line.find(\"val\") != -1 and mode == 'train':\n",
    "            continue\n",
    "        if line.find(\"val\") == -1 and mode == 'val':\n",
    "            continue\n",
    "        line = line.replace(\" \", \"\")\n",
    "        if line.find(\"val\") == -1:\n",
    "            epoch_pattern = re.compile(r'(?:train:)\\d+\\.?\\d*')\n",
    "            # print(epoch_pattern.findall(line))\n",
    "            epoch = int(epoch_pattern.findall(line)[0][6:])\n",
    "        else:\n",
    "            epoch_pattern = re.compile(r'(?:val:)\\d+\\.?\\d*')\n",
    "            epoch = int(epoch_pattern.findall(line)[0][4:])\n",
    "        loss_pattern = re.compile(r'(?:Loss/total:)\\d+\\.?\\d*')\n",
    "        loss = float(loss_pattern.findall(line)[0][11:])\n",
    "        iou_pattern = re.compile(r'(?:IoU:)\\d+\\.?\\d*')\n",
    "        iou = float(iou_pattern.findall(line)[0][4:])\n",
    "        # print(line)\n",
    "        # print(epoch)\n",
    "        # print(loss)\n",
    "        # print(iou)\n",
    "\n",
    "        if epoch in info.keys():\n",
    "            info[epoch].append((loss, iou))\n",
    "        else:\n",
    "            info[epoch] = [(loss, iou)]\n",
    "    return info"
   ]
  },
  {
   "cell_type": "code",
   "outputs": [
    {
     "name": "stdout",
     "output_type": "stream",
     "text": [
      "iou_list:  [0.8156196875000002]\n",
      "best epoch: 1, max iou: 0.8156196875000002\n"
     ]
    },
    {
     "data": {
      "text/plain": "<Figure size 640x480 with 2 Axes>",
      "image/png": "[encoded data removed]"
     },
     "metadata": {},
     "output_type": "display_data"
    }
   ],
   "source": [
    "# loss_file_path = '/home/lzd/workspace/LeeNet/logs/LeeNet_plScore_RMT_CENTER00001/result.log'\n",
    "# loss_file_path = '/home/lzd/workspace/LeeNet/logs/LeeNet_plScore_RMT_CENTER_no_down/result.log'\n",
    "# loss_file_path = '/home/lzd/workspace/LeeNet/logs/LeeNet_plScore_RMT_mix_CENTER/result.log'\n",
    "# loss_file_path = '/home/lzd/workspace/LeeNet/logs/LeeNet_plScore_RMT_sigma_CENTER/result.log'\n",
    "\n",
    "\n",
    "# loss_file_path = '/home/lzd/workspace/LeeNet/logs/LeeNet_plScore_OS_sigma_CENTER/result.log'\n",
    "\n",
    "\n",
    "# loss_file_path = '/home/lzd/workspace/LeeNet/logs/LeeNet_plScore_OS_sigma_RGBT/result.log'\n",
    "# loss_file_path = '/home/lzd/workspace/LeeNet/logs/LeeNet_plScore_OS_sigma_RGBT/result_0726.log'\n",
    "# loss_file_path = '/home/lzd/workspace/LeeNet/logs/LeeNet_plScore_OS_sigma_RGBT/result_0725sota.log'\n",
    "\n",
    "loss_file_path = '/home/lzd/workspace/LeeNet/logs/LeeNet_plScore_OS_sigma_RGBD/result.log'\n",
    "# loss_file_path = '/home/lzd/workspace/LeeNet/logs/LeeNet_plScore_OS_sigma_RGBD/result_0726.log'\n",
    "# loss_file_path = '/home/lzd/workspace/LeeNet/logs/LeeNet_plScore_OS_sigma_RGBD/result_0725sota.log'\n",
    "\n",
    "# loss_file_path = '/home/lzd/workspace/LeeNet/logs/LeeNet_plScore_OS_sigma_RGBE/result.log'\n",
    "# loss_file_path = '/home/lzd/workspace/LeeNet/logs/LeeNet_plScore_OS_sigma_RGBE/result_0726.log'\n",
    "# loss_file_path = '/home/lzd/workspace/LeeNet/logs/LeeNet_plScore_OS_sigma_RGBE/result_0725sota.log'\n",
    "# loss_file_path = '/home/lzd/workspace/LeeNet/logs/LeeNet_plScore_OS_sigma_RGBE/result_2path_4score.log'\n",
    "# loss_file_path = '/home/lzd/workspace/LeeNet/logs/LeeNet_plScore_OS_sigma_RGBE/result_3path_4score_no_norm.log'\n",
    "# loss_file_path = '/home/lzd/workspace/LeeNet/logs/LeeNet_plScore_OS_sigma_RGBE/result_3path_4score_modal_norm.log'\n",
    "\n",
    "mode = 1  # 0: train, 1: val\n",
    "start_epoch = 0\n",
    "end_epoch = 0\n",
    "info = read_loss_file(loss_file_path, mode='train' if mode == 0 else 'val')\n",
    "# 画图\n",
    "loss_list = []\n",
    "iou_list = []\n",
    "\n",
    "max_iou = 0\n",
    "best_epoch = 0\n",
    "\n",
    "for epoch, loss_iou in info.items():\n",
    "    num = 0\n",
    "    loss_sum = 0\n",
    "    iou_sum = 0\n",
    "    for loss, iou in loss_iou:\n",
    "        num += 1\n",
    "        loss_sum += loss\n",
    "        iou_sum += iou\n",
    "    avg_loss = loss_sum / num\n",
    "    avg_iou = iou_sum / num\n",
    "    if avg_iou > max_iou:\n",
    "        max_iou = avg_iou\n",
    "        best_epoch = epoch\n",
    "    loss_list.append(loss_sum / num)\n",
    "    iou_list.append(iou_sum / num)\n",
    "end_epoch = len(loss_list) if end_epoch == 0 else end_epoch\n",
    "loss_list, iou_list = loss_list[start_epoch:end_epoch], iou_list[start_epoch:end_epoch]\n",
    "\n",
    "print(\"iou_list: \", iou_list)\n",
    "\n",
    "print(f\"best epoch: {best_epoch}, max iou: {max_iou}\")\n",
    "\n",
    "# 放大画布\n",
    "# 分两个画布绘制\n",
    "fig, ax1 = plt.subplots()\n",
    "ax2 = ax1.twinx()\n",
    "ax1.plot(range(start_epoch + 1, end_epoch + 1), loss_list, 'r-')\n",
    "ax2.plot(range(start_epoch + 1, end_epoch + 1), iou_list, 'b-')\n",
    "ax1.set_xlabel('epoch')\n",
    "ax1.set_ylabel('loss', color='r')\n",
    "ax2.set_ylabel('iou', color='b')\n",
    "plt.show()\n"
   ],
   "metadata": {
    "collapsed": false,
    "ExecuteTime": {
     "end_time": "2024-08-08T05:14:48.735765700Z",
     "start_time": "2024-08-08T05:14:48.538183Z"
    }
   },
   "id": "28c03d92c73ab0a4",
   "execution_count": 54
  }
 ],
 "metadata": {
  "kernelspec": {
   "display_name": "Python 3",
   "language": "python",
   "name": "python3"
  },
  "language_info": {
   "codemirror_mode": {
    "name": "ipython",
    "version": 2
   },
   "file_extension": ".py",
   "mimetype": "text/x-python",
   "name": "python",
   "nbconvert_exporter": "python",
   "pygments_lexer": "ipython2",
   "version": "2.7.6"
  }
 },
 "nbformat": 4,
 "nbformat_minor": 5
}
