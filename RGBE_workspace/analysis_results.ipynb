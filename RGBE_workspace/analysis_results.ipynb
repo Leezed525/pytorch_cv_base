{
 "cells": [
  {
   "cell_type": "code",
   "execution_count": 5,
   "outputs": [
    {
     "name": "stdout",
     "output_type": "stream",
     "text": [
      "The autoreload extension is already loaded. To reload it, use:\n",
      "  %reload_ext autoreload\n"
     ]
    }
   ],
   "source": [
    "%load_ext autoreload\n",
    "%autoreload 2\n",
    "%matplotlib inline\n",
    "import os\n",
    "import sys\n",
    "import matplotlib.pyplot as plt\n",
    "\n",
    "plt.rcParams['figure.figsize'] = [14, 8]\n",
    "\n",
    "sys.path.append('/media/star/data/Leezed/workspace/LeeNet/')\n",
    "from lib.test.analysis.plot_results import plot_results, print_results, print_per_sequence_results, print_results_per_video\n",
    "from lib.test.evaluation import get_dataset, trackerlist\n",
    "\n",
    "yaml_name = \"plscore_os_sigma_RGBE\""
   ],
   "metadata": {
    "collapsed": false,
    "pycharm": {
     "name": "#%%\n"
    },
    "ExecuteTime": {
     "end_time": "2024-07-25T05:53:02.121819300Z",
     "start_time": "2024-07-25T05:53:02.087912100Z"
    }
   }
  },
  {
   "cell_type": "code",
   "outputs": [],
   "source": [
    "dataset_name = 'VisEvent'\n",
    "trackers = []\n",
    "trackers.extend(trackerlist(name='LeeNet', parameter_name='plscore_os_sigma_RGBE', dataset_name=dataset_name,\n",
    "                            run_ids=None, display_name='LeeNet_RGBE', yaml_name=yaml_name))"
   ],
   "metadata": {
    "collapsed": false,
    "ExecuteTime": {
     "end_time": "2024-07-25T05:53:02.192629800Z",
     "start_time": "2024-07-25T05:53:02.115835900Z"
    }
   },
   "execution_count": 6
  },
  {
   "cell_type": "code",
   "outputs": [],
   "source": [
    "dataset = get_dataset(yaml_name, dataset_name)"
   ],
   "metadata": {
    "collapsed": false,
    "ExecuteTime": {
     "end_time": "2024-07-25T05:53:02.763540400Z",
     "start_time": "2024-07-25T05:53:02.171686300Z"
    }
   },
   "execution_count": 7
  },
  {
   "cell_type": "code",
   "execution_count": 8,
   "outputs": [
    {
     "name": "stderr",
     "output_type": "stream",
     "text": [
      "100%|██████████| 320/320 [00:01<00:00, 236.69it/s]"
     ]
    },
    {
     "name": "stdout",
     "output_type": "stream",
     "text": [
      "\n",
      "\n",
      "Computed results over 320 / 320 sequences\n",
      "\n",
      "Reporting results over 320 / 320 sequences\n",
      "\n",
      "VisEvent         | AUC        | OP50       | OP75       | Precision    | Norm Precision    |\n",
      "LeeNet_RGBE      | 60.44      | 71.26      | 59.69      | 74.23        | 80.24             |\n"
     ]
    },
    {
     "name": "stderr",
     "output_type": "stream",
     "text": [
      "\n"
     ]
    }
   ],
   "source": [
    "# trackers.extend(trackerlist(name='ostrack', parameter_name='vitb_256_mae_ce_32x4_ep300', dataset_name=dataset_name,\n",
    "#                             run_ids=None, display_name='OSTrack256'))\n",
    "# trackers.extend(trackerlist(name='ostrack', parameter_name='vitb_384_mae_ce_32x4_ep300', dataset_name=dataset_name,\n",
    "#                             run_ids=None, display_name='OSTrack384'))\n",
    "\n",
    "# dataset = get_dataset(dataset_name)\n",
    "# plot_results(trackers, dataset, dataset_name, merge_results=True, plot_types=('success', 'prec'),\n",
    "#              skip_missing_seq=False, force_evaluation=True, plot_bin_gap=0.05, exclude_invalid_frames=False)\n",
    "print_results(trackers, dataset, dataset_name, merge_results=True, plot_types=('success', 'prec', 'norm_prec'), yaml_name=yaml_name,\n",
    "              force_evaluation=True)\n",
    "# print_results_per_video(trackers, dataset, dataset_name, merge_results=True, plot_types=('success', 'prec', 'norm_prec'),\n",
    "#                         per_video=True, force_evaluation=True)\n",
    "# print_per_sequence_results(trackers, dataset, dataset_name, merge_results=True, plot_types=('success', 'prec', 'norm_prec'))"
   ],
   "metadata": {
    "collapsed": false,
    "pycharm": {
     "name": "#%%\n"
    },
    "ExecuteTime": {
     "end_time": "2024-07-25T05:53:04.221537700Z",
     "start_time": "2024-07-25T05:53:02.765530600Z"
    }
   }
  }
 ],
 "metadata": {
  "kernelspec": {
   "display_name": "Python 3",
   "language": "python",
   "name": "python3"
  },
  "language_info": {
   "codemirror_mode": {
    "name": "ipython",
    "version": 2
   },
   "file_extension": ".py",
   "mimetype": "text/x-python",
   "name": "python",
   "nbconvert_exporter": "python",
   "pygments_lexer": "ipython2",
   "version": "2.7.6"
  }
 },
 "nbformat": 4,
 "nbformat_minor": 0
}
