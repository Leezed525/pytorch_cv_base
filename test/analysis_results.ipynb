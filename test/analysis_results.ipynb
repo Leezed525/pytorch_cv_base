{
 "cells": [
  {
   "cell_type": "code",
   "execution_count": 41,
   "outputs": [
    {
     "name": "stdout",
     "output_type": "stream",
     "text": [
      "The autoreload extension is already loaded. To reload it, use:\n",
      "  %reload_ext autoreload\n"
     ]
    }
   ],
   "source": [
    "%load_ext autoreload\n",
    "%autoreload 2\n",
    "%matplotlib inline\n",
    "import os\n",
    "import sys\n",
    "import matplotlib.pyplot as plt\n",
    "\n",
    "plt.rcParams['figure.figsize'] = [14, 8]\n",
    "\n",
    "sys.path.append('/media/star/data/Leezed/workspace/LeeNet/')\n",
    "from lib.test.analysis.plot_results import plot_results, print_results, print_per_sequence_results, print_results_per_video\n",
    "from lib.test.evaluation import get_dataset, trackerlist\n",
    "\n",
    "yaml_name = \"plscore_os_sigma_RGBT\""
   ],
   "metadata": {
    "collapsed": false,
    "pycharm": {
     "name": "#%%\n"
    },
    "ExecuteTime": {
     "end_time": "2024-07-09T05:54:44.724560600Z",
     "start_time": "2024-07-09T05:54:44.578913700Z"
    }
   }
  },
  {
   "cell_type": "code",
   "outputs": [
    {
     "name": "stdout",
     "output_type": "stream",
     "text": [
      "/home/lzd/workspace/LeeNet/RGBT_workspace/results/LasHeR/plscore_os_sigma_RGBT\n"
     ]
    }
   ],
   "source": [
    "dataset_name = 'LasHeR'\n",
    "trackers = []\n",
    "trackers.extend(trackerlist(name='LeeNet', parameter_name='plscore_os_sigma_RGBT', dataset_name=dataset_name,\n",
    "                            run_ids=None, display_name='LeeNet_RGBT', yaml_name=yaml_name))"
   ],
   "metadata": {
    "collapsed": false,
    "ExecuteTime": {
     "end_time": "2024-07-09T05:54:44.765414700Z",
     "start_time": "2024-07-09T05:54:44.638754200Z"
    }
   },
   "execution_count": 42
  },
  {
   "cell_type": "code",
   "outputs": [],
   "source": [
    "dataset = get_dataset(yaml_name, dataset_name)"
   ],
   "metadata": {
    "collapsed": false,
    "ExecuteTime": {
     "end_time": "2024-07-09T05:54:45.415293700Z",
     "start_time": "2024-07-09T05:54:44.671667500Z"
    }
   },
   "execution_count": 43
  },
  {
   "cell_type": "code",
   "execution_count": 44,
   "outputs": [
    {
     "name": "stderr",
     "output_type": "stream",
     "text": [
      "100%|██████████| 245/245 [00:00<00:00, 529.89it/s]\n"
     ]
    },
    {
     "name": "stdout",
     "output_type": "stream",
     "text": [
      "\n",
      "\n",
      "Computed results over 245 / 245 sequences\n",
      "\n",
      "Reporting results over 245 / 245 sequences\n",
      "\n",
      "LasHeR           | AUC        | OP50       | OP75       | Precision    | Norm Precision    |\n",
      "LeeNet_RGBT      | 54.56      | 66.06      | 45.66      | 67.93        | 64.10             |\n"
     ]
    }
   ],
   "source": [
    "# trackers.extend(trackerlist(name='ostrack', parameter_name='vitb_256_mae_ce_32x4_ep300', dataset_name=dataset_name,\n",
    "#                             run_ids=None, display_name='OSTrack256'))\n",
    "# trackers.extend(trackerlist(name='ostrack', parameter_name='vitb_384_mae_ce_32x4_ep300', dataset_name=dataset_name,\n",
    "#                             run_ids=None, display_name='OSTrack384'))\n",
    "\n",
    "# dataset = get_dataset(dataset_name)\n",
    "# plot_results(trackers, dataset, dataset_name, merge_results=True, plot_types=('success', 'prec'),\n",
    "#              skip_missing_seq=False, force_evaluation=True, plot_bin_gap=0.05, exclude_invalid_frames=False)\n",
    "print_results(trackers, dataset, dataset_name, merge_results=True, plot_types=('success', 'prec', 'norm_prec'), yaml_name=yaml_name)\n",
    "# print_results_per_video(trackers, dataset, dataset_name, merge_results=True, plot_types=('success', 'prec', 'norm_prec'),\n",
    "#                         per_video=True, force_evaluation=True)\n",
    "# print_per_sequence_results(trackers, dataset, dataset_name, merge_results=True, plot_types=('success', 'prec', 'norm_prec'))"
   ],
   "metadata": {
    "collapsed": false,
    "pycharm": {
     "name": "#%%\n"
    },
    "ExecuteTime": {
     "end_time": "2024-07-09T05:54:46.423518800Z",
     "start_time": "2024-07-09T05:54:45.419140900Z"
    }
   }
  }
 ],
 "metadata": {
  "kernelspec": {
   "display_name": "Python 3",
   "language": "python",
   "name": "python3"
  },
  "language_info": {
   "codemirror_mode": {
    "name": "ipython",
    "version": 2
   },
   "file_extension": ".py",
   "mimetype": "text/x-python",
   "name": "python",
   "nbconvert_exporter": "python",
   "pygments_lexer": "ipython2",
   "version": "2.7.6"
  }
 },
 "nbformat": 4,
 "nbformat_minor": 0
}
