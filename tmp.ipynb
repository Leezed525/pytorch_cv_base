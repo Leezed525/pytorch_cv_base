{
 "cells": [
  {
   "cell_type": "code",
   "outputs": [],
   "source": [
    "%load_ext autoreload\n",
    "%autoreload 1\n",
    "\n",
    "%aimport lib.utils"
   ],
   "metadata": {
    "collapsed": false,
    "ExecuteTime": {
     "end_time": "2024-03-18T07:17:55.659562600Z",
     "start_time": "2024-03-18T07:17:55.568579800Z"
    }
   },
   "id": "f2883d1e349b1fa1",
   "execution_count": 1
  },
  {
   "cell_type": "code",
   "execution_count": 2,
   "id": "initial_id",
   "metadata": {
    "collapsed": true,
    "ExecuteTime": {
     "end_time": "2024-03-18T07:17:57.172856Z",
     "start_time": "2024-03-18T07:17:57.116980Z"
    }
   },
   "outputs": [],
   "source": [
    "from lib.utils.YamlUtil import YamlUtil\n",
    "import os\n",
    "import sys"
   ]
  },
  {
   "cell_type": "code",
   "outputs": [
    {
     "name": "stdout",
     "output_type": "stream",
     "text": [
      "E:\\Leezed\\project\\python\\pytorch_cv_base\\test_tmp\n"
     ]
    }
   ],
   "source": [
    "# 获取当前文件的路径\n",
    "path = 'E:\\\\Leezed\\\\project\\\\python\\\\pytorch_cv_base\\\\test_tmp'\n",
    "print(path)\n",
    "cfg = YamlUtil(path, 'test_cfg.yaml')"
   ],
   "metadata": {
    "collapsed": false,
    "ExecuteTime": {
     "end_time": "2024-03-18T07:17:58.113716800Z",
     "start_time": "2024-03-18T07:17:58.090776400Z"
    }
   },
   "id": "ffff001bb7765fd",
   "execution_count": 3
  },
  {
   "cell_type": "code",
   "outputs": [
    {
     "name": "stdout",
     "output_type": "stream",
     "text": [
      "{'model': {'pretrainFile': '123', 'pretrainFile2': 'resnet123213'}}\n"
     ]
    }
   ],
   "source": [
    "cfg.debug()"
   ],
   "metadata": {
    "collapsed": false,
    "ExecuteTime": {
     "end_time": "2024-03-18T07:18:37.412006700Z",
     "start_time": "2024-03-18T07:18:37.401038900Z"
    }
   },
   "id": "ae951ecc042981cd",
   "execution_count": 15
  },
  {
   "cell_type": "code",
   "outputs": [],
   "source": [
    "cfg.add_root_key('model',None)"
   ],
   "metadata": {
    "collapsed": false,
    "ExecuteTime": {
     "end_time": "2024-03-18T07:18:00.695319600Z",
     "start_time": "2024-03-18T07:18:00.679363400Z"
    }
   },
   "id": "6e2a0f29585b00fb",
   "execution_count": 5
  },
  {
   "cell_type": "code",
   "outputs": [],
   "source": [
    "cfg.write_yaml()"
   ],
   "metadata": {
    "collapsed": false,
    "ExecuteTime": {
     "end_time": "2024-03-18T07:19:07.436267100Z",
     "start_time": "2024-03-18T07:19:07.419311300Z"
    }
   },
   "id": "4c71722572ca63f7",
   "execution_count": 20
  },
  {
   "cell_type": "code",
   "outputs": [
    {
     "ename": "Exception",
     "evalue": "当前key已存在",
     "output_type": "error",
     "traceback": [
      "\u001B[1;31m---------------------------------------------------------------------------\u001B[0m",
      "\u001B[1;31mException\u001B[0m                                 Traceback (most recent call last)",
      "Cell \u001B[1;32mIn[11], line 1\u001B[0m\n\u001B[1;32m----> 1\u001B[0m \u001B[43mcfg\u001B[49m\u001B[38;5;241;43m.\u001B[39;49m\u001B[43madd_key\u001B[49m\u001B[43m(\u001B[49m\u001B[38;5;124;43m'\u001B[39;49m\u001B[38;5;124;43mmodel.pretrainFile2\u001B[39;49m\u001B[38;5;124;43m'\u001B[39;49m\u001B[43m,\u001B[49m\u001B[43m \u001B[49m\u001B[38;5;124;43m'\u001B[39;49m\u001B[38;5;124;43mresnet123213\u001B[39;49m\u001B[38;5;124;43m'\u001B[39;49m\u001B[43m)\u001B[49m\n",
      "File \u001B[1;32mE:\\Leezed\\project\\python\\pytorch_cv_base\\lib\\utils\\YamlUtil.py:61\u001B[0m, in \u001B[0;36mYamlUtil.add_key\u001B[1;34m(self, key_path, value)\u001B[0m\n\u001B[0;32m     58\u001B[0m         content \u001B[38;5;241m=\u001B[39m content[key]\n\u001B[0;32m     60\u001B[0m     \u001B[38;5;28;01mif\u001B[39;00m really_key_path[\u001B[38;5;241m-\u001B[39m\u001B[38;5;241m1\u001B[39m] \u001B[38;5;129;01min\u001B[39;00m content:\n\u001B[1;32m---> 61\u001B[0m         \u001B[38;5;28;01mraise\u001B[39;00m \u001B[38;5;167;01mException\u001B[39;00m(\u001B[38;5;124m\"\u001B[39m\u001B[38;5;124m当前key已存在\u001B[39m\u001B[38;5;124m\"\u001B[39m)\n\u001B[0;32m     63\u001B[0m     content[really_key_path[\u001B[38;5;241m-\u001B[39m\u001B[38;5;241m1\u001B[39m]] \u001B[38;5;241m=\u001B[39m value\n\u001B[0;32m     64\u001B[0m \u001B[38;5;28;01melse\u001B[39;00m:\n",
      "\u001B[1;31mException\u001B[0m: 当前key已存在"
     ]
    }
   ],
   "source": [
    "cfg.add_key('model.pretrainFile2', 'resnet123213')"
   ],
   "metadata": {
    "collapsed": false,
    "ExecuteTime": {
     "end_time": "2024-03-18T07:18:18.584738200Z",
     "start_time": "2024-03-18T07:18:18.538864Z"
    }
   },
   "id": "7a7df10710635379",
   "execution_count": 11
  },
  {
   "cell_type": "code",
   "outputs": [],
   "source": [
    "cfg.modify_key('model.pretrainFile',123)"
   ],
   "metadata": {
    "collapsed": false,
    "ExecuteTime": {
     "end_time": "2024-03-18T07:19:05.303540400Z",
     "start_time": "2024-03-18T07:19:05.290547100Z"
    }
   },
   "id": "43b7231b50354f22",
   "execution_count": 19
  }
 ],
 "metadata": {
  "kernelspec": {
   "display_name": "Python 3",
   "language": "python",
   "name": "python3"
  },
  "language_info": {
   "codemirror_mode": {
    "name": "ipython",
    "version": 2
   },
   "file_extension": ".py",
   "mimetype": "text/x-python",
   "name": "python",
   "nbconvert_exporter": "python",
   "pygments_lexer": "ipython2",
   "version": "2.7.6"
  }
 },
 "nbformat": 4,
 "nbformat_minor": 5
}
