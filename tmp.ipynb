{
 "cells": [
  {
   "cell_type": "code",
   "execution_count": 1,
   "id": "initial_id",
   "metadata": {
    "collapsed": true,
    "ExecuteTime": {
     "end_time": "2024-04-16T12:12:36.288691900Z",
     "start_time": "2024-04-16T12:12:36.271736900Z"
    }
   },
   "outputs": [],
   "source": [
    "%load_ext autoreload\n",
    "%autoreload 2"
   ]
  },
  {
   "cell_type": "code",
   "outputs": [],
   "source": [
    "from lib.utils.base_funtion import build_dataloaders\n",
    "from lib.config.cfg_loader import env_setting\n",
    "\n",
    "cfg = env_setting(cfg_name=None)\n",
    "loader_train, loader_val = build_dataloaders(cfg)"
   ],
   "metadata": {
    "collapsed": false,
    "ExecuteTime": {
     "end_time": "2024-04-16T12:12:37.243368900Z",
     "start_time": "2024-04-16T12:12:36.286696900Z"
    }
   },
   "id": "99089b02971c220a",
   "execution_count": 2
  },
  {
   "cell_type": "code",
   "outputs": [
    {
     "name": "stdout",
     "output_type": "stream",
     "text": [
      "1\n",
      "odict_keys(['template_images', 'template_anno', 'search_images', 'search_anno', 'dataset', 'test_class', 'valid'])\n",
      "template_images torch.Size([1, 16, 6, 128, 128])\n",
      "search_images torch.Size([1, 16, 6, 320, 320])\n",
      "z shape torch.Size([16, 8, 8, 96])\n",
      "x shape torch.Size([16, 20, 20, 96])\n",
      "layer 1\n",
      "z shape torch.Size([16, 4, 4, 192])\n",
      "x shape torch.Size([16, 10, 10, 192])\n",
      "layer 2\n",
      "z shape torch.Size([16, 2, 2, 384])\n",
      "x shape torch.Size([16, 5, 5, 384])\n",
      "layer 3\n",
      "z shape torch.Size([16, 1, 1, 768])\n",
      "x shape torch.Size([16, 3, 3, 768])\n",
      "layer 4\n",
      "z shape torch.Size([16, 1, 1, 768])\n",
      "x shape torch.Size([16, 3, 3, 768])\n",
      "z shape torch.Size([16, 1, 768])\n",
      "x shape torch.Size([16, 9, 768])\n",
      "x shape torch.Size([16, 10, 768])\n"
     ]
    }
   ],
   "source": [
    "import matplotlib.pyplot as plt\n",
    "from lib.models.layer.patch_embed import PatchEmbed\n",
    "# from lib.models.layer.RMT import RetBlock, RelPos2d\n",
    "# from lib.models.layer.score import ScoreLayerUseConv\n",
    "from lib.models.backbone.pure_RMT import PureRMT\n",
    "import torch\n",
    "\n",
    "rgb = None\n",
    "modal = None\n",
    "\n",
    "device = torch.device(\"cuda:1\")\n",
    "embed_dim = 768\n",
    "patch_embed = PatchEmbed(patch_size=16, in_chans=3, embed_dim=embed_dim, flatten=False).to(device)\n",
    "# relpos = RelPos2d(embed_dim=embed_dim, num_heads=12, initial_value=1, heads_range=3).to(device)\n",
    "# ret_block = RetBlock(retention='whole', embed_dim=embed_dim, num_heads=12, ffn_dim=96).to(device)\n",
    "# score = ScoreLayerUseConv(embed_dim=embed_dim).to(device)\n",
    "template_score = None\n",
    "backbone = PureRMT(cfg=cfg).to(device)\n",
    "\n",
    "for i, data in enumerate(loader_train, 1):\n",
    "    print(i)\n",
    "    print(data.keys())\n",
    "    # print(data['test_class'])\n",
    "    # print(data['dataset'])\n",
    "    print(\"template_images\", data['template_images'].shape)\n",
    "    print(\"search_images\", data['search_images'].shape)\n",
    "\n",
    "    template = data['template_images'][0].to(device)\n",
    "    search = data['search_images'][0].to(device)\n",
    "    # template, template_patch_num = patch_embed(template)\n",
    "    # print(\"template\", template.shape)\n",
    "    # positive, uncertain, negative = score(template)\n",
    "    # template = template.permute(0,2,3,1) # B,C,H,W -> B,H,W,C\n",
    "    backbone(template, search)\n",
    "\n",
    "    break"
   ],
   "metadata": {
    "collapsed": false,
    "ExecuteTime": {
     "end_time": "2024-04-16T12:14:35.462808200Z",
     "start_time": "2024-04-16T12:14:28.127557100Z"
    }
   },
   "id": "c8b450feb5126d1c",
   "execution_count": 5
  },
  {
   "cell_type": "code",
   "outputs": [],
   "source": [
    "# print(template_score.shape)\n",
    "# print(template_score)"
   ],
   "metadata": {
    "collapsed": false,
    "ExecuteTime": {
     "end_time": "2024-04-16T12:12:51.055828900Z",
     "start_time": "2024-04-16T12:12:51.053805100Z"
    }
   },
   "id": "187929b3f836925e",
   "execution_count": null
  }
 ],
 "metadata": {
  "kernelspec": {
   "display_name": "Python 3",
   "language": "python",
   "name": "python3"
  },
  "language_info": {
   "codemirror_mode": {
    "name": "ipython",
    "version": 2
   },
   "file_extension": ".py",
   "mimetype": "text/x-python",
   "name": "python",
   "nbconvert_exporter": "python",
   "pygments_lexer": "ipython2",
   "version": "2.7.6"
  }
 },
 "nbformat": 4,
 "nbformat_minor": 5
}
