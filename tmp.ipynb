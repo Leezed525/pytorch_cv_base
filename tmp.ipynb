{
 "cells": [
  {
   "cell_type": "code",
   "execution_count": 1,
   "id": "initial_id",
   "metadata": {
    "collapsed": true,
    "ExecuteTime": {
     "end_time": "2024-04-14T15:13:30.888424900Z",
     "start_time": "2024-04-14T15:13:30.888424900Z"
    }
   },
   "outputs": [],
   "source": [
    "%load_ext autoreload\n",
    "%autoreload 2"
   ]
  },
  {
   "cell_type": "code",
   "outputs": [],
   "source": [
    "from lib.utils.base_funtion import build_dataloaders\n",
    "from lib.config.cfg_loader import  env_setting\n",
    "cfg = env_setting(cfg_name=None)\n",
    "loader_train, loader_val = build_dataloaders(cfg)"
   ],
   "metadata": {
    "collapsed": false,
    "ExecuteTime": {
     "end_time": "2024-04-14T15:13:32.101531Z",
     "start_time": "2024-04-14T15:13:30.888424900Z"
    }
   },
   "id": "99089b02971c220a",
   "execution_count": 2
  },
  {
   "cell_type": "code",
   "outputs": [
    {
     "name": "stdout",
     "output_type": "stream",
     "text": [
      "1\n",
      "odict_keys(['template_images', 'template_anno', 'search_images', 'search_anno', 'dataset', 'test_class', 'valid'])\n",
      "['train', 'train', None, None, None, 'train', None, 'train', None, None, 'train', None, None, 'train', None, None]\n",
      "['DepthTrack', 'DepthTrack', 'visevent', 'visevent', 'visevent', 'DepthTrack', 'LasHeR', 'DepthTrack', 'LasHeR', 'visevent', 'DepthTrack', 'LasHeR', 'LasHeR', 'DepthTrack', 'visevent', 'LasHeR']\n",
      "template_images torch.Size([1, 16, 6, 128, 128])\n",
      "search_images torch.Size([1, 16, 6, 320, 320])\n",
      "rgb torch.Size([16, 64, 768])\n",
      "modal torch.Size([16, 64, 768])\n"
     ]
    }
   ],
   "source": [
    "import matplotlib.pyplot as plt\n",
    "from lib.models.layer.patch_embed import PatchEmbed\n",
    "import torch\n",
    "rgb = None\n",
    "modal = None\n",
    "\n",
    "device = torch.device(\"cuda:1\" )\n",
    "patch_embed = PatchEmbed(patch_size=16, in_chans=3, embed_dim=768).to(device)\n",
    "\n",
    "\n",
    "for i,data in enumerate(loader_train,1):\n",
    "    print(i)\n",
    "    print(data.keys())\n",
    "    print(data['test_class'])\n",
    "    print(data['dataset'])\n",
    "    print(\"template_images\",data['template_images'].shape)\n",
    "    print(\"search_images\",data['search_images'].shape)\n",
    "    \n",
    "    rgb = data['template_images'][0,:,:3].to(device)\n",
    "    modal = data['template_images'][0,:,3:].to(device)\n",
    "    rgb = patch_embed(rgb)\n",
    "    modal = patch_embed(modal)\n",
    "    print(\"rgb\",rgb.shape)\n",
    "    print(\"modal\",modal.shape)\n",
    "    break   "
   ],
   "metadata": {
    "collapsed": false,
    "ExecuteTime": {
     "end_time": "2024-04-14T15:15:21.423329Z",
     "start_time": "2024-04-14T15:15:03.040143200Z"
    }
   },
   "id": "c8b450feb5126d1c",
   "execution_count": 7
  },
  {
   "cell_type": "code",
   "outputs": [],
   "source": [],
   "metadata": {
    "collapsed": false,
    "ExecuteTime": {
     "start_time": "2024-04-14T15:13:58.673724Z"
    }
   },
   "id": "187929b3f836925e",
   "execution_count": null
  }
 ],
 "metadata": {
  "kernelspec": {
   "display_name": "Python 3",
   "language": "python",
   "name": "python3"
  },
  "language_info": {
   "codemirror_mode": {
    "name": "ipython",
    "version": 2
   },
   "file_extension": ".py",
   "mimetype": "text/x-python",
   "name": "python",
   "nbconvert_exporter": "python",
   "pygments_lexer": "ipython2",
   "version": "2.7.6"
  }
 },
 "nbformat": 4,
 "nbformat_minor": 5
}
