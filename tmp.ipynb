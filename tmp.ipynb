{
 "cells": [
  {
   "cell_type": "code",
   "outputs": [],
   "source": [
    "%load_ext autoreload\n",
    "%autoreload 1\n",
    "\n",
    "%aimport lib.utils"
   ],
   "metadata": {
    "collapsed": false,
    "ExecuteTime": {
     "end_time": "2024-03-18T06:56:00.927129300Z",
     "start_time": "2024-03-18T06:56:00.831306700Z"
    }
   },
   "id": "f2883d1e349b1fa1",
   "execution_count": 1
  },
  {
   "cell_type": "code",
   "execution_count": 2,
   "id": "initial_id",
   "metadata": {
    "collapsed": true,
    "ExecuteTime": {
     "end_time": "2024-03-18T06:56:01.838937500Z",
     "start_time": "2024-03-18T06:56:01.794136200Z"
    }
   },
   "outputs": [],
   "source": [
    "from lib.utils.YamlUtil import YamlUtil\n",
    "import os\n",
    "import sys"
   ]
  },
  {
   "cell_type": "code",
   "outputs": [
    {
     "name": "stdout",
     "output_type": "stream",
     "text": [
      "E:\\Leezed\\project\\python\\pytorch_cv_base\\test_tmp\n"
     ]
    }
   ],
   "source": [
    "# 获取当前文件的路径\n",
    "path = 'E:\\\\Leezed\\\\project\\\\python\\\\pytorch_cv_base\\\\test_tmp'\n",
    "print(path)\n",
    "cfg = YamlUtil(path, 'test_cfg.yaml')"
   ],
   "metadata": {
    "collapsed": false,
    "ExecuteTime": {
     "end_time": "2024-03-18T06:56:02.526733200Z",
     "start_time": "2024-03-18T06:56:02.514764600Z"
    }
   },
   "id": "ffff001bb7765fd",
   "execution_count": 3
  },
  {
   "cell_type": "code",
   "outputs": [
    {
     "name": "stdout",
     "output_type": "stream",
     "text": [
      "{'model': {'pretrainFile': 'resnet123213'}}\n"
     ]
    }
   ],
   "source": [
    "cfg.debug()"
   ],
   "metadata": {
    "collapsed": false,
    "ExecuteTime": {
     "end_time": "2024-03-18T06:56:11.751898600Z",
     "start_time": "2024-03-18T06:56:11.738931400Z"
    }
   },
   "id": "ae951ecc042981cd",
   "execution_count": 9
  },
  {
   "cell_type": "code",
   "outputs": [],
   "source": [
    "cfg.add_root_key('model',None)"
   ],
   "metadata": {
    "collapsed": false,
    "ExecuteTime": {
     "end_time": "2024-03-18T06:56:04.618727600Z",
     "start_time": "2024-03-18T06:56:04.604766400Z"
    }
   },
   "id": "6e2a0f29585b00fb",
   "execution_count": 5
  },
  {
   "cell_type": "code",
   "outputs": [],
   "source": [
    "cfg.write_yaml()"
   ],
   "metadata": {
    "collapsed": false,
    "ExecuteTime": {
     "end_time": "2024-03-18T06:56:17.699833Z",
     "start_time": "2024-03-18T06:56:17.691854400Z"
    }
   },
   "id": "4c71722572ca63f7",
   "execution_count": 10
  },
  {
   "cell_type": "code",
   "outputs": [
    {
     "name": "stdout",
     "output_type": "stream",
     "text": [
      "['model', 'pretrainFile']\n"
     ]
    }
   ],
   "source": [
    "cfg.add_key('model.pretrainFile', 'resnet123213')"
   ],
   "metadata": {
    "collapsed": false,
    "ExecuteTime": {
     "end_time": "2024-03-18T06:56:08.803331900Z",
     "start_time": "2024-03-18T06:56:08.773412100Z"
    }
   },
   "id": "7a7df10710635379",
   "execution_count": 8
  }
 ],
 "metadata": {
  "kernelspec": {
   "display_name": "Python 3",
   "language": "python",
   "name": "python3"
  },
  "language_info": {
   "codemirror_mode": {
    "name": "ipython",
    "version": 2
   },
   "file_extension": ".py",
   "mimetype": "text/x-python",
   "name": "python",
   "nbconvert_exporter": "python",
   "pygments_lexer": "ipython2",
   "version": "2.7.6"
  }
 },
 "nbformat": 4,
 "nbformat_minor": 5
}
