{
 "cells": [
  {
   "cell_type": "code",
   "execution_count": 2,
   "id": "initial_id",
   "metadata": {
    "collapsed": true,
    "ExecuteTime": {
     "end_time": "2024-04-15T07:17:55.529330200Z",
     "start_time": "2024-04-15T07:17:55.462089300Z"
    }
   },
   "outputs": [],
   "source": [
    "%load_ext autoreload\n",
    "%autoreload 2"
   ]
  },
  {
   "cell_type": "code",
   "outputs": [],
   "source": [
    "from lib.utils.base_funtion import build_dataloaders\n",
    "from lib.config.cfg_loader import  env_setting\n",
    "cfg = env_setting(cfg_name=None)\n",
    "loader_train, loader_val = build_dataloaders(cfg)"
   ],
   "metadata": {
    "collapsed": false,
    "ExecuteTime": {
     "end_time": "2024-04-15T07:17:56.059236700Z",
     "start_time": "2024-04-15T07:17:55.528476Z"
    }
   },
   "id": "99089b02971c220a",
   "execution_count": 3
  },
  {
   "cell_type": "code",
   "outputs": [
    {
     "name": "stdout",
     "output_type": "stream",
     "text": [
      "1\n",
      "odict_keys(['template_images', 'template_anno', 'search_images', 'search_anno', 'dataset', 'test_class', 'valid'])\n",
      "[None, None, None, None, None, 'train', None, None, 'train', None, None, 'train', 'train', None, 'train', None]\n",
      "['LasHeR', 'LasHeR', 'LasHeR', 'LasHeR', 'visevent', 'DepthTrack', 'LasHeR', 'LasHeR', 'DepthTrack', 'visevent', 'visevent', 'DepthTrack', 'DepthTrack', 'visevent', 'DepthTrack', 'LasHeR']\n",
      "template_images torch.Size([1, 16, 6, 128, 128])\n",
      "search_images torch.Size([1, 16, 6, 320, 320])\n",
      "template torch.Size([16, 768, 8, 8])\n",
      "torch.Size([16, 8, 8, 768])\n"
     ]
    }
   ],
   "source": [
    "import matplotlib.pyplot as plt\n",
    "from lib.models.layer.patch_embed import PatchEmbed\n",
    "from lib.models.layer.RMT import RetBlock,RelPos2d\n",
    "import torch\n",
    "rgb = None\n",
    "modal = None\n",
    "\n",
    "device = torch.device(\"cuda:1\" )\n",
    "embed_dim = 768\n",
    "patch_embed = PatchEmbed(patch_size=16, in_chans=6, embed_dim=embed_dim,flatten=False).to(device)\n",
    "relpos = RelPos2d(embed_dim=embed_dim,num_heads=12,initial_value=1,heads_range=3).to(device)\n",
    "ret_block = RetBlock(retention='whole',embed_dim=embed_dim,num_heads=12,ffn_dim=96).to(device)\n",
    "template_score = None \n",
    "\n",
    "\n",
    "for i,data in enumerate(loader_train,1):\n",
    "    print(i)\n",
    "    print(data.keys())\n",
    "    # print(data['test_class'])\n",
    "    # print(data['dataset'])\n",
    "    print(\"template_images\",data['template_images'].shape)\n",
    "    print(\"search_images\",data['search_images'].shape)\n",
    "    \n",
    "    template = data['template_images'][0].to(device)\n",
    "    search = data['search_images'][0].to(device)\n",
    "    template,template_patch_num = patch_embed(template)\n",
    "    print(\"template\",template.shape)\n",
    "    template = template.permute(0,2,3,1) # B,C,H,W -> B,H,W,C\n",
    "    print(template.shape)\n",
    "    \n",
    "    rel_pos = relpos((8, 8))\n",
    "    \n",
    "    template_score = ret_block(template,retention_rel_pos = rel_pos)\n",
    "    # rgb = data['template_images'][0,:,:3].to(device)\n",
    "    # modal = data['template_images'][0,:,3:].to(device)\n",
    "    # rgb,rgb_patch_num = patch_embed(rgb)\n",
    "    # modal,modal_patch_num = patch_embed(modal)\n",
    "    # print(\"rgb\",rgb.shape)\n",
    "    # print(\"rgb_num_patches\",rgb_patch_num)\n",
    "    # print(\"modal\",modal.shape)\n",
    "    # print(\"modal_num_patches\",modal_patch_num)\n",
    "    break   "
   ],
   "metadata": {
    "collapsed": false,
    "ExecuteTime": {
     "end_time": "2024-04-15T08:08:40.626040300Z",
     "start_time": "2024-04-15T08:08:33.216838Z"
    }
   },
   "id": "c8b450feb5126d1c",
   "execution_count": 17
  },
  {
   "cell_type": "code",
   "outputs": [
    {
     "name": "stdout",
     "output_type": "stream",
     "text": [
      "torch.Size([16, 8, 8, 768])\n"
     ]
    }
   ],
   "source": [
    "print(template_score.shape)\n",
    "# print(template_score)"
   ],
   "metadata": {
    "collapsed": false,
    "ExecuteTime": {
     "end_time": "2024-04-15T08:13:29.502862Z",
     "start_time": "2024-04-15T08:13:29.459857200Z"
    }
   },
   "id": "187929b3f836925e",
   "execution_count": 20
  }
 ],
 "metadata": {
  "kernelspec": {
   "display_name": "Python 3",
   "language": "python",
   "name": "python3"
  },
  "language_info": {
   "codemirror_mode": {
    "name": "ipython",
    "version": 2
   },
   "file_extension": ".py",
   "mimetype": "text/x-python",
   "name": "python",
   "nbconvert_exporter": "python",
   "pygments_lexer": "ipython2",
   "version": "2.7.6"
  }
 },
 "nbformat": 4,
 "nbformat_minor": 5
}
