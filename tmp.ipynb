{
 "cells": [
  {
   "cell_type": "code",
   "outputs": [],
   "source": [
    "%load_ext autoreload\n",
    "%autoreload 1\n",
    "\n",
    "%aimport lib.utils"
   ],
   "metadata": {
    "collapsed": false,
    "ExecuteTime": {
     "end_time": "2024-03-18T09:52:17.692415900Z",
     "start_time": "2024-03-18T09:52:17.594536100Z"
    }
   },
   "id": "f2883d1e349b1fa1",
   "execution_count": 1
  },
  {
   "cell_type": "code",
   "execution_count": 2,
   "id": "initial_id",
   "metadata": {
    "collapsed": true,
    "ExecuteTime": {
     "end_time": "2024-03-18T09:52:19.356895500Z",
     "start_time": "2024-03-18T09:52:19.315008800Z"
    }
   },
   "outputs": [],
   "source": [
    "from lib.utils.YamlUtil import YamlUtil\n",
    "import os\n",
    "import sys"
   ]
  },
  {
   "cell_type": "code",
   "outputs": [
    {
     "name": "stdout",
     "output_type": "stream",
     "text": [
      "E:\\Leezed\\project\\python\\pytorch_cv_base\\test_tmp\n"
     ]
    }
   ],
   "source": [
    "# 获取当前文件的路径\n",
    "path = 'E:\\\\Leezed\\\\project\\\\python\\\\pytorch_cv_base\\\\test_tmp'\n",
    "print(path)\n",
    "cfg = YamlUtil(path, 'test_cfg.yaml')"
   ],
   "metadata": {
    "collapsed": false,
    "ExecuteTime": {
     "end_time": "2024-03-18T09:52:20.144876700Z",
     "start_time": "2024-03-18T09:52:20.132908300Z"
    }
   },
   "id": "ffff001bb7765fd",
   "execution_count": 3
  },
  {
   "cell_type": "code",
   "outputs": [
    {
     "name": "stdout",
     "output_type": "stream",
     "text": [
      "{'model': {'pretrainFile1': [1, 2, 3], 'pretrainFile2': 'resnet123213'}}\n"
     ]
    }
   ],
   "source": [
    "cfg.debug()"
   ],
   "metadata": {
    "collapsed": false,
    "ExecuteTime": {
     "end_time": "2024-03-18T09:52:22.353066100Z",
     "start_time": "2024-03-18T09:52:22.331478300Z"
    }
   },
   "id": "ae951ecc042981cd",
   "execution_count": 4
  },
  {
   "cell_type": "code",
   "outputs": [],
   "source": [
    "cfg.add_root_key('model',None)"
   ],
   "metadata": {
    "collapsed": false,
    "ExecuteTime": {
     "end_time": "2024-03-18T09:50:36.538004Z",
     "start_time": "2024-03-18T09:50:36.529054400Z"
    }
   },
   "id": "6e2a0f29585b00fb",
   "execution_count": 5
  },
  {
   "cell_type": "code",
   "outputs": [],
   "source": [
    "cfg.write_yaml()"
   ],
   "metadata": {
    "collapsed": false,
    "ExecuteTime": {
     "end_time": "2024-03-18T09:51:35.056119500Z",
     "start_time": "2024-03-18T09:51:35.040161800Z"
    }
   },
   "id": "4c71722572ca63f7",
   "execution_count": 20
  },
  {
   "cell_type": "code",
   "outputs": [],
   "source": [
    "cfg.add_key('model.pretrainFile1', 'resnet123213')"
   ],
   "metadata": {
    "collapsed": false,
    "ExecuteTime": {
     "end_time": "2024-03-18T09:50:46.749849800Z",
     "start_time": "2024-03-18T09:50:46.727908400Z"
    }
   },
   "id": "7a7df10710635379",
   "execution_count": 9
  },
  {
   "cell_type": "code",
   "outputs": [],
   "source": [
    "cfg.modify_key('model.pretrainFile1',[1,2,3])"
   ],
   "metadata": {
    "collapsed": false,
    "ExecuteTime": {
     "end_time": "2024-03-18T09:51:27.106260300Z",
     "start_time": "2024-03-18T09:51:27.085257300Z"
    }
   },
   "id": "43b7231b50354f22",
   "execution_count": 17
  },
  {
   "cell_type": "code",
   "outputs": [
    {
     "data": {
      "text/plain": "{'pretrainFile2': 'resnet123213', 'pretrainFile1': [1, 2, 3]}"
     },
     "execution_count": 18,
     "metadata": {},
     "output_type": "execute_result"
    }
   ],
   "source": [
    "cfg.get_value('model')"
   ],
   "metadata": {
    "collapsed": false,
    "ExecuteTime": {
     "end_time": "2024-03-18T09:51:29.489654Z",
     "start_time": "2024-03-18T09:51:29.473696100Z"
    }
   },
   "id": "60944aa9f9172c94",
   "execution_count": 18
  }
 ],
 "metadata": {
  "kernelspec": {
   "display_name": "Python 3",
   "language": "python",
   "name": "python3"
  },
  "language_info": {
   "codemirror_mode": {
    "name": "ipython",
    "version": 2
   },
   "file_extension": ".py",
   "mimetype": "text/x-python",
   "name": "python",
   "nbconvert_exporter": "python",
   "pygments_lexer": "ipython2",
   "version": "2.7.6"
  }
 },
 "nbformat": 4,
 "nbformat_minor": 5
}
