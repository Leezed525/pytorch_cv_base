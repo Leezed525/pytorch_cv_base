{
 "cells": [
  {
   "cell_type": "code",
   "execution_count": 2,
   "id": "initial_id",
   "metadata": {
    "collapsed": true,
    "ExecuteTime": {
     "end_time": "2024-05-09T08:47:21.028137100Z",
     "start_time": "2024-05-09T08:47:20.983258300Z"
    }
   },
   "outputs": [
    {
     "name": "stdout",
     "output_type": "stream",
     "text": [
      "The autoreload extension is already loaded. To reload it, use:\n",
      "  %reload_ext autoreload\n"
     ]
    }
   ],
   "source": [
    "%load_ext autoreload\n",
    "%autoreload 2"
   ]
  },
  {
   "cell_type": "code",
   "outputs": [],
   "source": [
    "from lib.actor.LeeNet import LeeNetActor\n",
    "from lib.models.backbone.plscore_RMT import PLScoreRMT\n",
    "from lib.models.LeeNet.score_RMT_center import ScorePureRMTCENTER\n",
    "from lib.models.head.center_predictor import CenterPredictor\n",
    "from lib.trainer.LeeNet_trainer import LeeNetTrainer\n",
    "from lib.utils.base_funtion import build_dataloaders, get_optimizer_scheduler\n",
    "from lib.config.cfg_loader import env_setting\n",
    "from torch.nn.functional import l1_loss\n",
    "from torch.nn import BCEWithLogitsLoss\n",
    "from lib.utils.box_ops import giou_loss\n",
    "from lib.utils.focal_loss import FocalLoss\n",
    "import torch\n",
    "\n",
    "\n",
    "def build_model(cfg):\n",
    "    backbone = PLScoreRMT(cfg=cfg)\n",
    "    \n",
    "    stride = cfg.model.backbone.stride\n",
    "    feat_sz = int(cfg.data.search.size / stride)\n",
    "    head = CenterPredictor(inplanes=cfg.model.pureRMT.embed_dim[-1], channel=cfg.model.head.num_channels, feat_sz=feat_sz, stride=stride)\n",
    "    model = ScorePureRMTCENTER(backbone, head, cfg)\n",
    "    return model\n",
    "\n",
    "\n",
    "cfg = env_setting(cfg_name='plscore_RMT_center00001.yaml')\n",
    "loader_train, loader_val = build_dataloaders(cfg)\n",
    "data = None\n",
    "# for i, _data in enumerate(loader_train, 1):\n",
    "#     data = _data\n",
    "#     break"
   ],
   "metadata": {
    "collapsed": false,
    "ExecuteTime": {
     "end_time": "2024-05-09T08:47:23.778623400Z",
     "start_time": "2024-05-09T08:47:22.470258Z"
    }
   },
   "id": "80be956ebf3e10d8",
   "execution_count": 3
  },
  {
   "cell_type": "code",
   "outputs": [],
   "source": [
    "# net = build_model(cfg)\n",
    "# \n",
    "# focal_loss = FocalLoss()\n",
    "# objective = {'giou': giou_loss, 'l1': l1_loss, 'focal': focal_loss, 'cls': BCEWithLogitsLoss()}\n",
    "# loss_weight = {'giou': cfg.train.GIOU_weight, 'l1': cfg.train.L1_weight, 'focal': 1., 'cls': 1.0}\n",
    "# actor = LeeNetActor(net=net, objective=objective, loss_weight=loss_weight, cfg=cfg)"
   ],
   "metadata": {
    "collapsed": false
   },
   "id": "fd091780f8c9b716",
   "execution_count": null
  },
  {
   "cell_type": "code",
   "outputs": [],
   "source": [
    "# data = data.to(cfg.train.device)\n",
    "# actor(data)"
   ],
   "metadata": {
    "collapsed": false
   },
   "id": "1e8b148ff3549596",
   "execution_count": null
  },
  {
   "cell_type": "code",
   "outputs": [
    {
     "name": "stdout",
     "output_type": "stream",
     "text": [
      "odict_keys(['backbone.patch_embed.proj.weight', 'backbone.patch_embed.proj.bias', 'backbone.score.conv1.conv.weight', 'backbone.score.conv1.bn.weight', 'backbone.score.conv1.bn.bias', 'backbone.score.conv1.bn.running_mean', 'backbone.score.conv1.bn.running_var', 'backbone.score.conv1.bn.num_batches_tracked', 'backbone.score.conv2.conv.weight', 'backbone.score.conv2.bn.weight', 'backbone.score.conv2.bn.bias', 'backbone.score.conv2.bn.running_mean', 'backbone.score.conv2.bn.running_var', 'backbone.score.conv2.bn.num_batches_tracked', 'backbone.score.confident_conv1.conv.weight', 'backbone.score.confident_conv1.bn.weight', 'backbone.score.confident_conv1.bn.bias', 'backbone.score.confident_conv1.bn.running_mean', 'backbone.score.confident_conv1.bn.running_var', 'backbone.score.confident_conv1.bn.num_batches_tracked', 'backbone.score.confident_conv2.conv.weight', 'backbone.score.confident_conv2.bn.weight', 'backbone.score.confident_conv2.bn.bias', 'backbone.score.confident_conv2.bn.running_mean', 'backbone.score.confident_conv2.bn.running_var', 'backbone.score.confident_conv2.bn.num_batches_tracked', 'backbone.RMT_layers.0.Relpos.angle', 'backbone.RMT_layers.0.Relpos.decay', 'backbone.RMT_layers.0.blocks.0.retention_layer_norm.weight', 'backbone.RMT_layers.0.blocks.0.retention_layer_norm.bias', 'backbone.RMT_layers.0.blocks.0.retention.q_proj.weight', 'backbone.RMT_layers.0.blocks.0.retention.q_proj.bias', 'backbone.RMT_layers.0.blocks.0.retention.k_proj.weight', 'backbone.RMT_layers.0.blocks.0.retention.k_proj.bias', 'backbone.RMT_layers.0.blocks.0.retention.v_proj.weight', 'backbone.RMT_layers.0.blocks.0.retention.v_proj.bias', 'backbone.RMT_layers.0.blocks.0.retention.lepe.conv.weight', 'backbone.RMT_layers.0.blocks.0.retention.lepe.conv.bias', 'backbone.RMT_layers.0.blocks.0.retention.out_proj.weight', 'backbone.RMT_layers.0.blocks.0.retention.out_proj.bias', 'backbone.RMT_layers.0.blocks.0.final_layer_norm.weight', 'backbone.RMT_layers.0.blocks.0.final_layer_norm.bias', 'backbone.RMT_layers.0.blocks.0.ffn.fc1.weight', 'backbone.RMT_layers.0.blocks.0.ffn.fc1.bias', 'backbone.RMT_layers.0.blocks.0.ffn.fc2.weight', 'backbone.RMT_layers.0.blocks.0.ffn.fc2.bias', 'backbone.RMT_layers.0.blocks.0.pos.conv.weight', 'backbone.RMT_layers.0.blocks.0.pos.conv.bias', 'backbone.RMT_layers.0.blocks.1.retention_layer_norm.weight', 'backbone.RMT_layers.0.blocks.1.retention_layer_norm.bias', 'backbone.RMT_layers.0.blocks.1.retention.q_proj.weight', 'backbone.RMT_layers.0.blocks.1.retention.q_proj.bias', 'backbone.RMT_layers.0.blocks.1.retention.k_proj.weight', 'backbone.RMT_layers.0.blocks.1.retention.k_proj.bias', 'backbone.RMT_layers.0.blocks.1.retention.v_proj.weight', 'backbone.RMT_layers.0.blocks.1.retention.v_proj.bias', 'backbone.RMT_layers.0.blocks.1.retention.lepe.conv.weight', 'backbone.RMT_layers.0.blocks.1.retention.lepe.conv.bias', 'backbone.RMT_layers.0.blocks.1.retention.out_proj.weight', 'backbone.RMT_layers.0.blocks.1.retention.out_proj.bias', 'backbone.RMT_layers.0.blocks.1.final_layer_norm.weight', 'backbone.RMT_layers.0.blocks.1.final_layer_norm.bias', 'backbone.RMT_layers.0.blocks.1.ffn.fc1.weight', 'backbone.RMT_layers.0.blocks.1.ffn.fc1.bias', 'backbone.RMT_layers.0.blocks.1.ffn.fc2.weight', 'backbone.RMT_layers.0.blocks.1.ffn.fc2.bias', 'backbone.RMT_layers.0.blocks.1.pos.conv.weight', 'backbone.RMT_layers.0.blocks.1.pos.conv.bias', 'backbone.RMT_layers.0.downsample.reduction.weight', 'backbone.RMT_layers.0.downsample.reduction.bias', 'backbone.RMT_layers.0.downsample.norm.weight', 'backbone.RMT_layers.0.downsample.norm.bias', 'backbone.RMT_layers.0.downsample.norm.running_mean', 'backbone.RMT_layers.0.downsample.norm.running_var', 'backbone.RMT_layers.0.downsample.norm.num_batches_tracked', 'backbone.RMT_layers.1.Relpos.angle', 'backbone.RMT_layers.1.Relpos.decay', 'backbone.RMT_layers.1.blocks.0.retention_layer_norm.weight', 'backbone.RMT_layers.1.blocks.0.retention_layer_norm.bias', 'backbone.RMT_layers.1.blocks.0.retention.q_proj.weight', 'backbone.RMT_layers.1.blocks.0.retention.q_proj.bias', 'backbone.RMT_layers.1.blocks.0.retention.k_proj.weight', 'backbone.RMT_layers.1.blocks.0.retention.k_proj.bias', 'backbone.RMT_layers.1.blocks.0.retention.v_proj.weight', 'backbone.RMT_layers.1.blocks.0.retention.v_proj.bias', 'backbone.RMT_layers.1.blocks.0.retention.lepe.conv.weight', 'backbone.RMT_layers.1.blocks.0.retention.lepe.conv.bias', 'backbone.RMT_layers.1.blocks.0.retention.out_proj.weight', 'backbone.RMT_layers.1.blocks.0.retention.out_proj.bias', 'backbone.RMT_layers.1.blocks.0.final_layer_norm.weight', 'backbone.RMT_layers.1.blocks.0.final_layer_norm.bias', 'backbone.RMT_layers.1.blocks.0.ffn.fc1.weight', 'backbone.RMT_layers.1.blocks.0.ffn.fc1.bias', 'backbone.RMT_layers.1.blocks.0.ffn.fc2.weight', 'backbone.RMT_layers.1.blocks.0.ffn.fc2.bias', 'backbone.RMT_layers.1.blocks.0.pos.conv.weight', 'backbone.RMT_layers.1.blocks.0.pos.conv.bias', 'backbone.RMT_layers.1.blocks.1.retention_layer_norm.weight', 'backbone.RMT_layers.1.blocks.1.retention_layer_norm.bias', 'backbone.RMT_layers.1.blocks.1.retention.q_proj.weight', 'backbone.RMT_layers.1.blocks.1.retention.q_proj.bias', 'backbone.RMT_layers.1.blocks.1.retention.k_proj.weight', 'backbone.RMT_layers.1.blocks.1.retention.k_proj.bias', 'backbone.RMT_layers.1.blocks.1.retention.v_proj.weight', 'backbone.RMT_layers.1.blocks.1.retention.v_proj.bias', 'backbone.RMT_layers.1.blocks.1.retention.lepe.conv.weight', 'backbone.RMT_layers.1.blocks.1.retention.lepe.conv.bias', 'backbone.RMT_layers.1.blocks.1.retention.out_proj.weight', 'backbone.RMT_layers.1.blocks.1.retention.out_proj.bias', 'backbone.RMT_layers.1.blocks.1.final_layer_norm.weight', 'backbone.RMT_layers.1.blocks.1.final_layer_norm.bias', 'backbone.RMT_layers.1.blocks.1.ffn.fc1.weight', 'backbone.RMT_layers.1.blocks.1.ffn.fc1.bias', 'backbone.RMT_layers.1.blocks.1.ffn.fc2.weight', 'backbone.RMT_layers.1.blocks.1.ffn.fc2.bias', 'backbone.RMT_layers.1.blocks.1.pos.conv.weight', 'backbone.RMT_layers.1.blocks.1.pos.conv.bias', 'backbone.RMT_layers.1.downsample.reduction.weight', 'backbone.RMT_layers.1.downsample.reduction.bias', 'backbone.RMT_layers.1.downsample.norm.weight', 'backbone.RMT_layers.1.downsample.norm.bias', 'backbone.RMT_layers.1.downsample.norm.running_mean', 'backbone.RMT_layers.1.downsample.norm.running_var', 'backbone.RMT_layers.1.downsample.norm.num_batches_tracked', 'backbone.RMT_layers.2.Relpos.angle', 'backbone.RMT_layers.2.Relpos.decay', 'backbone.RMT_layers.2.blocks.0.retention_layer_norm.weight', 'backbone.RMT_layers.2.blocks.0.retention_layer_norm.bias', 'backbone.RMT_layers.2.blocks.0.retention.q_proj.weight', 'backbone.RMT_layers.2.blocks.0.retention.q_proj.bias', 'backbone.RMT_layers.2.blocks.0.retention.k_proj.weight', 'backbone.RMT_layers.2.blocks.0.retention.k_proj.bias', 'backbone.RMT_layers.2.blocks.0.retention.v_proj.weight', 'backbone.RMT_layers.2.blocks.0.retention.v_proj.bias', 'backbone.RMT_layers.2.blocks.0.retention.lepe.conv.weight', 'backbone.RMT_layers.2.blocks.0.retention.lepe.conv.bias', 'backbone.RMT_layers.2.blocks.0.retention.out_proj.weight', 'backbone.RMT_layers.2.blocks.0.retention.out_proj.bias', 'backbone.RMT_layers.2.blocks.0.final_layer_norm.weight', 'backbone.RMT_layers.2.blocks.0.final_layer_norm.bias', 'backbone.RMT_layers.2.blocks.0.ffn.fc1.weight', 'backbone.RMT_layers.2.blocks.0.ffn.fc1.bias', 'backbone.RMT_layers.2.blocks.0.ffn.fc2.weight', 'backbone.RMT_layers.2.blocks.0.ffn.fc2.bias', 'backbone.RMT_layers.2.blocks.0.pos.conv.weight', 'backbone.RMT_layers.2.blocks.0.pos.conv.bias', 'backbone.RMT_layers.2.blocks.1.retention_layer_norm.weight', 'backbone.RMT_layers.2.blocks.1.retention_layer_norm.bias', 'backbone.RMT_layers.2.blocks.1.retention.q_proj.weight', 'backbone.RMT_layers.2.blocks.1.retention.q_proj.bias', 'backbone.RMT_layers.2.blocks.1.retention.k_proj.weight', 'backbone.RMT_layers.2.blocks.1.retention.k_proj.bias', 'backbone.RMT_layers.2.blocks.1.retention.v_proj.weight', 'backbone.RMT_layers.2.blocks.1.retention.v_proj.bias', 'backbone.RMT_layers.2.blocks.1.retention.lepe.conv.weight', 'backbone.RMT_layers.2.blocks.1.retention.lepe.conv.bias', 'backbone.RMT_layers.2.blocks.1.retention.out_proj.weight', 'backbone.RMT_layers.2.blocks.1.retention.out_proj.bias', 'backbone.RMT_layers.2.blocks.1.final_layer_norm.weight', 'backbone.RMT_layers.2.blocks.1.final_layer_norm.bias', 'backbone.RMT_layers.2.blocks.1.ffn.fc1.weight', 'backbone.RMT_layers.2.blocks.1.ffn.fc1.bias', 'backbone.RMT_layers.2.blocks.1.ffn.fc2.weight', 'backbone.RMT_layers.2.blocks.1.ffn.fc2.bias', 'backbone.RMT_layers.2.blocks.1.pos.conv.weight', 'backbone.RMT_layers.2.blocks.1.pos.conv.bias', 'backbone.RMT_layers.2.blocks.2.retention_layer_norm.weight', 'backbone.RMT_layers.2.blocks.2.retention_layer_norm.bias', 'backbone.RMT_layers.2.blocks.2.retention.q_proj.weight', 'backbone.RMT_layers.2.blocks.2.retention.q_proj.bias', 'backbone.RMT_layers.2.blocks.2.retention.k_proj.weight', 'backbone.RMT_layers.2.blocks.2.retention.k_proj.bias', 'backbone.RMT_layers.2.blocks.2.retention.v_proj.weight', 'backbone.RMT_layers.2.blocks.2.retention.v_proj.bias', 'backbone.RMT_layers.2.blocks.2.retention.lepe.conv.weight', 'backbone.RMT_layers.2.blocks.2.retention.lepe.conv.bias', 'backbone.RMT_layers.2.blocks.2.retention.out_proj.weight', 'backbone.RMT_layers.2.blocks.2.retention.out_proj.bias', 'backbone.RMT_layers.2.blocks.2.final_layer_norm.weight', 'backbone.RMT_layers.2.blocks.2.final_layer_norm.bias', 'backbone.RMT_layers.2.blocks.2.ffn.fc1.weight', 'backbone.RMT_layers.2.blocks.2.ffn.fc1.bias', 'backbone.RMT_layers.2.blocks.2.ffn.fc2.weight', 'backbone.RMT_layers.2.blocks.2.ffn.fc2.bias', 'backbone.RMT_layers.2.blocks.2.pos.conv.weight', 'backbone.RMT_layers.2.blocks.2.pos.conv.bias', 'backbone.RMT_layers.2.blocks.3.retention_layer_norm.weight', 'backbone.RMT_layers.2.blocks.3.retention_layer_norm.bias', 'backbone.RMT_layers.2.blocks.3.retention.q_proj.weight', 'backbone.RMT_layers.2.blocks.3.retention.q_proj.bias', 'backbone.RMT_layers.2.blocks.3.retention.k_proj.weight', 'backbone.RMT_layers.2.blocks.3.retention.k_proj.bias', 'backbone.RMT_layers.2.blocks.3.retention.v_proj.weight', 'backbone.RMT_layers.2.blocks.3.retention.v_proj.bias', 'backbone.RMT_layers.2.blocks.3.retention.lepe.conv.weight', 'backbone.RMT_layers.2.blocks.3.retention.lepe.conv.bias', 'backbone.RMT_layers.2.blocks.3.retention.out_proj.weight', 'backbone.RMT_layers.2.blocks.3.retention.out_proj.bias', 'backbone.RMT_layers.2.blocks.3.final_layer_norm.weight', 'backbone.RMT_layers.2.blocks.3.final_layer_norm.bias', 'backbone.RMT_layers.2.blocks.3.ffn.fc1.weight', 'backbone.RMT_layers.2.blocks.3.ffn.fc1.bias', 'backbone.RMT_layers.2.blocks.3.ffn.fc2.weight', 'backbone.RMT_layers.2.blocks.3.ffn.fc2.bias', 'backbone.RMT_layers.2.blocks.3.pos.conv.weight', 'backbone.RMT_layers.2.blocks.3.pos.conv.bias', 'backbone.RMT_layers.2.blocks.4.retention_layer_norm.weight', 'backbone.RMT_layers.2.blocks.4.retention_layer_norm.bias', 'backbone.RMT_layers.2.blocks.4.retention.q_proj.weight', 'backbone.RMT_layers.2.blocks.4.retention.q_proj.bias', 'backbone.RMT_layers.2.blocks.4.retention.k_proj.weight', 'backbone.RMT_layers.2.blocks.4.retention.k_proj.bias', 'backbone.RMT_layers.2.blocks.4.retention.v_proj.weight', 'backbone.RMT_layers.2.blocks.4.retention.v_proj.bias', 'backbone.RMT_layers.2.blocks.4.retention.lepe.conv.weight', 'backbone.RMT_layers.2.blocks.4.retention.lepe.conv.bias', 'backbone.RMT_layers.2.blocks.4.retention.out_proj.weight', 'backbone.RMT_layers.2.blocks.4.retention.out_proj.bias', 'backbone.RMT_layers.2.blocks.4.final_layer_norm.weight', 'backbone.RMT_layers.2.blocks.4.final_layer_norm.bias', 'backbone.RMT_layers.2.blocks.4.ffn.fc1.weight', 'backbone.RMT_layers.2.blocks.4.ffn.fc1.bias', 'backbone.RMT_layers.2.blocks.4.ffn.fc2.weight', 'backbone.RMT_layers.2.blocks.4.ffn.fc2.bias', 'backbone.RMT_layers.2.blocks.4.pos.conv.weight', 'backbone.RMT_layers.2.blocks.4.pos.conv.bias', 'backbone.RMT_layers.2.blocks.5.retention_layer_norm.weight', 'backbone.RMT_layers.2.blocks.5.retention_layer_norm.bias', 'backbone.RMT_layers.2.blocks.5.retention.q_proj.weight', 'backbone.RMT_layers.2.blocks.5.retention.q_proj.bias', 'backbone.RMT_layers.2.blocks.5.retention.k_proj.weight', 'backbone.RMT_layers.2.blocks.5.retention.k_proj.bias', 'backbone.RMT_layers.2.blocks.5.retention.v_proj.weight', 'backbone.RMT_layers.2.blocks.5.retention.v_proj.bias', 'backbone.RMT_layers.2.blocks.5.retention.lepe.conv.weight', 'backbone.RMT_layers.2.blocks.5.retention.lepe.conv.bias', 'backbone.RMT_layers.2.blocks.5.retention.out_proj.weight', 'backbone.RMT_layers.2.blocks.5.retention.out_proj.bias', 'backbone.RMT_layers.2.blocks.5.final_layer_norm.weight', 'backbone.RMT_layers.2.blocks.5.final_layer_norm.bias', 'backbone.RMT_layers.2.blocks.5.ffn.fc1.weight', 'backbone.RMT_layers.2.blocks.5.ffn.fc1.bias', 'backbone.RMT_layers.2.blocks.5.ffn.fc2.weight', 'backbone.RMT_layers.2.blocks.5.ffn.fc2.bias', 'backbone.RMT_layers.2.blocks.5.pos.conv.weight', 'backbone.RMT_layers.2.blocks.5.pos.conv.bias', 'backbone.RMT_layers.2.downsample.reduction.weight', 'backbone.RMT_layers.2.downsample.reduction.bias', 'backbone.RMT_layers.2.downsample.norm.weight', 'backbone.RMT_layers.2.downsample.norm.bias', 'backbone.RMT_layers.2.downsample.norm.running_mean', 'backbone.RMT_layers.2.downsample.norm.running_var', 'backbone.RMT_layers.2.downsample.norm.num_batches_tracked', 'backbone.RMT_layers.3.Relpos.angle', 'backbone.RMT_layers.3.Relpos.decay', 'backbone.RMT_layers.3.blocks.0.retention_layer_norm.weight', 'backbone.RMT_layers.3.blocks.0.retention_layer_norm.bias', 'backbone.RMT_layers.3.blocks.0.retention.q_proj.weight', 'backbone.RMT_layers.3.blocks.0.retention.q_proj.bias', 'backbone.RMT_layers.3.blocks.0.retention.k_proj.weight', 'backbone.RMT_layers.3.blocks.0.retention.k_proj.bias', 'backbone.RMT_layers.3.blocks.0.retention.v_proj.weight', 'backbone.RMT_layers.3.blocks.0.retention.v_proj.bias', 'backbone.RMT_layers.3.blocks.0.retention.lepe.conv.weight', 'backbone.RMT_layers.3.blocks.0.retention.lepe.conv.bias', 'backbone.RMT_layers.3.blocks.0.retention.out_proj.weight', 'backbone.RMT_layers.3.blocks.0.retention.out_proj.bias', 'backbone.RMT_layers.3.blocks.0.final_layer_norm.weight', 'backbone.RMT_layers.3.blocks.0.final_layer_norm.bias', 'backbone.RMT_layers.3.blocks.0.ffn.fc1.weight', 'backbone.RMT_layers.3.blocks.0.ffn.fc1.bias', 'backbone.RMT_layers.3.blocks.0.ffn.fc2.weight', 'backbone.RMT_layers.3.blocks.0.ffn.fc2.bias', 'backbone.RMT_layers.3.blocks.0.pos.conv.weight', 'backbone.RMT_layers.3.blocks.0.pos.conv.bias', 'backbone.RMT_layers.3.blocks.1.retention_layer_norm.weight', 'backbone.RMT_layers.3.blocks.1.retention_layer_norm.bias', 'backbone.RMT_layers.3.blocks.1.retention.q_proj.weight', 'backbone.RMT_layers.3.blocks.1.retention.q_proj.bias', 'backbone.RMT_layers.3.blocks.1.retention.k_proj.weight', 'backbone.RMT_layers.3.blocks.1.retention.k_proj.bias', 'backbone.RMT_layers.3.blocks.1.retention.v_proj.weight', 'backbone.RMT_layers.3.blocks.1.retention.v_proj.bias', 'backbone.RMT_layers.3.blocks.1.retention.lepe.conv.weight', 'backbone.RMT_layers.3.blocks.1.retention.lepe.conv.bias', 'backbone.RMT_layers.3.blocks.1.retention.out_proj.weight', 'backbone.RMT_layers.3.blocks.1.retention.out_proj.bias', 'backbone.RMT_layers.3.blocks.1.final_layer_norm.weight', 'backbone.RMT_layers.3.blocks.1.final_layer_norm.bias', 'backbone.RMT_layers.3.blocks.1.ffn.fc1.weight', 'backbone.RMT_layers.3.blocks.1.ffn.fc1.bias', 'backbone.RMT_layers.3.blocks.1.ffn.fc2.weight', 'backbone.RMT_layers.3.blocks.1.ffn.fc2.bias', 'backbone.RMT_layers.3.blocks.1.pos.conv.weight', 'backbone.RMT_layers.3.blocks.1.pos.conv.bias', 'box_head.gen_feat_conv.conv.weight', 'box_head.gen_feat_conv.bn.weight', 'box_head.gen_feat_conv.bn.bias', 'box_head.gen_feat_conv.bn.running_mean', 'box_head.gen_feat_conv.bn.running_var', 'box_head.gen_feat_conv.bn.num_batches_tracked', 'box_head.conv1_ctr.conv.weight', 'box_head.conv1_ctr.bn.weight', 'box_head.conv1_ctr.bn.bias', 'box_head.conv1_ctr.bn.running_mean', 'box_head.conv1_ctr.bn.running_var', 'box_head.conv1_ctr.bn.num_batches_tracked', 'box_head.conv2_ctr.conv.weight', 'box_head.conv2_ctr.bn.weight', 'box_head.conv2_ctr.bn.bias', 'box_head.conv2_ctr.bn.running_mean', 'box_head.conv2_ctr.bn.running_var', 'box_head.conv2_ctr.bn.num_batches_tracked', 'box_head.conv3_ctr.conv.weight', 'box_head.conv3_ctr.bn.weight', 'box_head.conv3_ctr.bn.bias', 'box_head.conv3_ctr.bn.running_mean', 'box_head.conv3_ctr.bn.running_var', 'box_head.conv3_ctr.bn.num_batches_tracked', 'box_head.conv4_ctr.conv.weight', 'box_head.conv4_ctr.bn.weight', 'box_head.conv4_ctr.bn.bias', 'box_head.conv4_ctr.bn.running_mean', 'box_head.conv4_ctr.bn.running_var', 'box_head.conv4_ctr.bn.num_batches_tracked', 'box_head.conv5_ctr.weight', 'box_head.conv5_ctr.bias', 'box_head.conv1_offset.conv.weight', 'box_head.conv1_offset.bn.weight', 'box_head.conv1_offset.bn.bias', 'box_head.conv1_offset.bn.running_mean', 'box_head.conv1_offset.bn.running_var', 'box_head.conv1_offset.bn.num_batches_tracked', 'box_head.conv2_offset.conv.weight', 'box_head.conv2_offset.bn.weight', 'box_head.conv2_offset.bn.bias', 'box_head.conv2_offset.bn.running_mean', 'box_head.conv2_offset.bn.running_var', 'box_head.conv2_offset.bn.num_batches_tracked', 'box_head.conv3_offset.conv.weight', 'box_head.conv3_offset.bn.weight', 'box_head.conv3_offset.bn.bias', 'box_head.conv3_offset.bn.running_mean', 'box_head.conv3_offset.bn.running_var', 'box_head.conv3_offset.bn.num_batches_tracked', 'box_head.conv4_offset.conv.weight', 'box_head.conv4_offset.bn.weight', 'box_head.conv4_offset.bn.bias', 'box_head.conv4_offset.bn.running_mean', 'box_head.conv4_offset.bn.running_var', 'box_head.conv4_offset.bn.num_batches_tracked', 'box_head.conv5_offset.weight', 'box_head.conv5_offset.bias', 'box_head.conv1_size.conv.weight', 'box_head.conv1_size.bn.weight', 'box_head.conv1_size.bn.bias', 'box_head.conv1_size.bn.running_mean', 'box_head.conv1_size.bn.running_var', 'box_head.conv1_size.bn.num_batches_tracked', 'box_head.conv2_size.conv.weight', 'box_head.conv2_size.bn.weight', 'box_head.conv2_size.bn.bias', 'box_head.conv2_size.bn.running_mean', 'box_head.conv2_size.bn.running_var', 'box_head.conv2_size.bn.num_batches_tracked', 'box_head.conv3_size.conv.weight', 'box_head.conv3_size.bn.weight', 'box_head.conv3_size.bn.bias', 'box_head.conv3_size.bn.running_mean', 'box_head.conv3_size.bn.running_var', 'box_head.conv3_size.bn.num_batches_tracked', 'box_head.conv4_size.conv.weight', 'box_head.conv4_size.bn.weight', 'box_head.conv4_size.bn.bias', 'box_head.conv4_size.bn.running_mean', 'box_head.conv4_size.bn.running_var', 'box_head.conv4_size.bn.num_batches_tracked', 'box_head.conv5_size.weight', 'box_head.conv5_size.bias', 'mlp.layers.0.weight', 'mlp.layers.0.bias', 'mlp.layers.1.weight', 'mlp.layers.1.bias', 'mlp.layers.2.weight', 'mlp.layers.2.bias', 'mlp.layers.3.weight', 'mlp.layers.3.bias', 'mlp.layers.4.weight', 'mlp.layers.4.bias'])\n",
      "odict_keys(['gen_feat_conv.conv.weight', 'gen_feat_conv.bn.weight', 'gen_feat_conv.bn.bias', 'gen_feat_conv.bn.running_mean', 'gen_feat_conv.bn.running_var', 'gen_feat_conv.bn.num_batches_tracked', 'conv1_ctr.conv.weight', 'conv1_ctr.bn.weight', 'conv1_ctr.bn.bias', 'conv1_ctr.bn.running_mean', 'conv1_ctr.bn.running_var', 'conv1_ctr.bn.num_batches_tracked', 'conv2_ctr.conv.weight', 'conv2_ctr.bn.weight', 'conv2_ctr.bn.bias', 'conv2_ctr.bn.running_mean', 'conv2_ctr.bn.running_var', 'conv2_ctr.bn.num_batches_tracked', 'conv3_ctr.conv.weight', 'conv3_ctr.bn.weight', 'conv3_ctr.bn.bias', 'conv3_ctr.bn.running_mean', 'conv3_ctr.bn.running_var', 'conv3_ctr.bn.num_batches_tracked', 'conv4_ctr.conv.weight', 'conv4_ctr.bn.weight', 'conv4_ctr.bn.bias', 'conv4_ctr.bn.running_mean', 'conv4_ctr.bn.running_var', 'conv4_ctr.bn.num_batches_tracked', 'conv5_ctr.weight', 'conv5_ctr.bias', 'conv1_offset.conv.weight', 'conv1_offset.bn.weight', 'conv1_offset.bn.bias', 'conv1_offset.bn.running_mean', 'conv1_offset.bn.running_var', 'conv1_offset.bn.num_batches_tracked', 'conv2_offset.conv.weight', 'conv2_offset.bn.weight', 'conv2_offset.bn.bias', 'conv2_offset.bn.running_mean', 'conv2_offset.bn.running_var', 'conv2_offset.bn.num_batches_tracked', 'conv3_offset.conv.weight', 'conv3_offset.bn.weight', 'conv3_offset.bn.bias', 'conv3_offset.bn.running_mean', 'conv3_offset.bn.running_var', 'conv3_offset.bn.num_batches_tracked', 'conv4_offset.conv.weight', 'conv4_offset.bn.weight', 'conv4_offset.bn.bias', 'conv4_offset.bn.running_mean', 'conv4_offset.bn.running_var', 'conv4_offset.bn.num_batches_tracked', 'conv5_offset.weight', 'conv5_offset.bias', 'conv1_size.conv.weight', 'conv1_size.bn.weight', 'conv1_size.bn.bias', 'conv1_size.bn.running_mean', 'conv1_size.bn.running_var', 'conv1_size.bn.num_batches_tracked', 'conv2_size.conv.weight', 'conv2_size.bn.weight', 'conv2_size.bn.bias', 'conv2_size.bn.running_mean', 'conv2_size.bn.running_var', 'conv2_size.bn.num_batches_tracked', 'conv3_size.conv.weight', 'conv3_size.bn.weight', 'conv3_size.bn.bias', 'conv3_size.bn.running_mean', 'conv3_size.bn.running_var', 'conv3_size.bn.num_batches_tracked', 'conv4_size.conv.weight', 'conv4_size.bn.weight', 'conv4_size.bn.bias', 'conv4_size.bn.running_mean', 'conv4_size.bn.running_var', 'conv4_size.bn.num_batches_tracked', 'conv5_size.weight', 'conv5_size.bias'])\n",
      "dict_keys([])\n"
     ]
    },
    {
     "data": {
      "text/plain": "<All keys matched successfully>"
     },
     "execution_count": 13,
     "metadata": {},
     "output_type": "execute_result"
    }
   ],
   "source": [
    "checkpoint_path = \"/media/star/data/Leezed/workspace/LeeNet/checkpoints/LeeNet_plScore_RMT_CENTER00001/ScorePureRMTCENTER_ep0100.pth.tar\"\n",
    "checkpoint_dict = torch.load(checkpoint_path,map_location={\"cuda:3\":\"cuda:3\"})['net']\n",
    "print(checkpoint_dict.keys())\n",
    "\n",
    "net = build_model(cfg)\n",
    "\n",
    "model_dict = net.box_head.state_dict()\n",
    "print(model_dict.keys())\n",
    "state_dict = {k: v for k, v in checkpoint_dict.items() if k in model_dict.keys()}\n",
    "print(state_dict.keys())\n",
    "model_dict.update(state_dict)\n",
    "net.box_head.load_state_dict(model_dict,strict=False)"
   ],
   "metadata": {
    "collapsed": false,
    "ExecuteTime": {
     "end_time": "2024-05-09T08:59:09.887419600Z",
     "start_time": "2024-05-09T08:59:07.433445500Z"
    }
   },
   "id": "75e2aafc89a31304",
   "execution_count": 13
  },
  {
   "cell_type": "code",
   "outputs": [],
   "source": [
    "\n",
    "\n",
    "focal_loss = FocalLoss()\n",
    "objective = {'giou': giou_loss, 'l1': l1_loss, 'focal': focal_loss, 'cls': BCEWithLogitsLoss()}\n",
    "loss_weight = {'giou': cfg.train.GIOU_weight, 'l1': cfg.train.L1_weight, 'focal': 1., 'cls': 1.0}\n",
    "actor = LeeNetActor(net=net, objective=objective, loss_weight=loss_weight, cfg=cfg)\n",
    "\n",
    "optimizer, lr_scheduler = get_optimizer_scheduler(net, cfg)\n",
    "\n",
    "trainer = LeeNetTrainer(actor=actor, loaders=[loader_train, loader_val], optimizer=optimizer, lr_scheduler=lr_scheduler, cfg=cfg)\n",
    "\n",
    "trainer.train(cfg.train.epoch)"
   ],
   "metadata": {
    "collapsed": false
   },
   "id": "57b1b2f52d877dd0",
   "execution_count": null
  }
 ],
 "metadata": {
  "kernelspec": {
   "display_name": "Python 3",
   "language": "python",
   "name": "python3"
  },
  "language_info": {
   "codemirror_mode": {
    "name": "ipython",
    "version": 2
   },
   "file_extension": ".py",
   "mimetype": "text/x-python",
   "name": "python",
   "nbconvert_exporter": "python",
   "pygments_lexer": "ipython2",
   "version": "2.7.6"
  }
 },
 "nbformat": 4,
 "nbformat_minor": 5
}
