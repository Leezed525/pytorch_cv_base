{
 "cells": [
  {
   "cell_type": "code",
   "execution_count": 1,
   "id": "initial_id",
   "metadata": {
    "collapsed": true,
    "ExecuteTime": {
     "end_time": "2024-04-21T05:17:49.764786900Z",
     "start_time": "2024-04-21T05:17:49.735512500Z"
    }
   },
   "outputs": [],
   "source": [
    "%load_ext autoreload\n",
    "%autoreload 2"
   ]
  },
  {
   "cell_type": "code",
   "outputs": [],
   "source": [
    "from lib.actor.LeeNet import LeeNetActor\n",
    "from lib.models.backbone.pure_RMT import PureRMT\n",
    "from lib.models.LeeNet.score_pureRMT_mlp import ScorePureRMTMLP\n",
    "from lib.models.head.mlp import MLP\n",
    "from lib.trainer.LeeNet_trainer import LeeNetTrainer\n",
    "from lib.utils.base_funtion import build_dataloaders, get_optimizer_scheduler\n",
    "from lib.config.cfg_loader import env_setting\n",
    "from torch.nn.functional import l1_loss\n",
    "from torch.nn import BCEWithLogitsLoss\n",
    "from lib.utils.box_ops import giou_loss\n",
    "from lib.utils.focal_loss import FocalLoss\n",
    "import torch\n",
    "\n",
    "\n",
    "def build_model(cfg):\n",
    "    backbone = PureRMT(cfg=cfg)\n",
    "    head = MLP(input_dim=10 * cfg.model.pureRMT.embed_dim[-1], hidden_dim=cfg.model.pureRMT.embed_dim[-1], output_dim=4, num_layers=2)\n",
    "    model = ScorePureRMTMLP(backbone, head, cfg)\n",
    "    return model\n"
   ],
   "metadata": {
    "collapsed": false,
    "ExecuteTime": {
     "end_time": "2024-04-21T05:17:52.805862200Z",
     "start_time": "2024-04-21T05:17:49.770906200Z"
    }
   },
   "id": "30fca21eced96d0a",
   "execution_count": 2
  },
  {
   "cell_type": "code",
   "outputs": [],
   "source": [
    "cfg = env_setting(cfg_name=None)\n",
    "\n",
    "loader_train, loader_val = build_dataloaders(cfg)\n",
    "\n",
    "net = build_model(cfg)\n",
    "\n",
    "focal_loss = FocalLoss()\n",
    "objective = {'giou': giou_loss, 'l1': l1_loss, 'focal': focal_loss, 'cls': BCEWithLogitsLoss()}\n",
    "loss_weight = {'giou': cfg.train.GIOU_weight, 'l1': cfg.train.L1_weight, 'focal': 1., 'cls': 1.0}\n",
    "actor = LeeNetActor(net=net, objective=objective, loss_weight=loss_weight, cfg=cfg)\n",
    "\n",
    "optimizer, lr_scheduler = get_optimizer_scheduler(net, cfg)\n",
    "\n",
    "# location loss 没计算出来\n",
    "\n",
    "trainer = LeeNetTrainer(actor=actor, loaders=[loader_train, loader_val], optimizer=optimizer, lr_scheduler=lr_scheduler, cfg=cfg)"
   ],
   "metadata": {
    "collapsed": false,
    "ExecuteTime": {
     "end_time": "2024-04-21T05:20:08.415349800Z",
     "start_time": "2024-04-21T05:20:08.027679700Z"
    }
   },
   "id": "99089b02971c220a",
   "execution_count": 5
  },
  {
   "cell_type": "code",
   "outputs": [],
   "source": [
    "# trainer.train(cfg.train.epoch,load_latest=True)"
   ],
   "metadata": {
    "collapsed": false,
    "ExecuteTime": {
     "end_time": "2024-04-21T05:20:11.697385300Z",
     "start_time": "2024-04-21T05:20:11.681400400Z"
    }
   },
   "id": "1057de9bd0aeecbb",
   "execution_count": 6
  },
  {
   "cell_type": "code",
   "outputs": [
    {
     "name": "stdout",
     "output_type": "stream",
     "text": [
      "0.0005\n"
     ]
    }
   ],
   "source": [
    "trainer.load_checkpoint()\n",
    "optimizer = trainer.optimizer\n",
    "\n",
    "optimizer.param_groups[0]['lr'] = 0.0005\n",
    "\n",
    "for params in optimizer.param_groups:\n",
    "    print(params['lr'])"
   ],
   "metadata": {
    "collapsed": false,
    "ExecuteTime": {
     "end_time": "2024-04-21T05:31:33.927120400Z",
     "start_time": "2024-04-21T05:31:33.444400500Z"
    }
   },
   "id": "65649e6829143bea",
   "execution_count": 11
  }
 ],
 "metadata": {
  "kernelspec": {
   "display_name": "Python 3",
   "language": "python",
   "name": "python3"
  },
  "language_info": {
   "codemirror_mode": {
    "name": "ipython",
    "version": 2
   },
   "file_extension": ".py",
   "mimetype": "text/x-python",
   "name": "python",
   "nbconvert_exporter": "python",
   "pygments_lexer": "ipython2",
   "version": "2.7.6"
  }
 },
 "nbformat": 4,
 "nbformat_minor": 5
}
