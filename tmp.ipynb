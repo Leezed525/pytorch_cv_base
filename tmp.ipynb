{
 "cells": [
  {
   "cell_type": "code",
   "execution_count": 1,
   "id": "initial_id",
   "metadata": {
    "collapsed": true,
    "ExecuteTime": {
     "end_time": "2024-04-14T03:16:00.430852600Z",
     "start_time": "2024-04-14T03:16:00.429853700Z"
    }
   },
   "outputs": [],
   "source": [
    "%load_ext autoreload\n",
    "%autoreload 2"
   ]
  },
  {
   "cell_type": "code",
   "outputs": [],
   "source": [
    "from lib.utils.base_funtion import build_dataloaders\n",
    "from lib.config.cfg_loader import  env_setting\n",
    "cfg = env_setting(cfg_name=None)\n",
    "loader_train, loader_val = build_dataloaders(cfg)"
   ],
   "metadata": {
    "collapsed": false,
    "ExecuteTime": {
     "end_time": "2024-04-14T03:16:02.843237200Z",
     "start_time": "2024-04-14T03:16:01.806554500Z"
    }
   },
   "id": "99089b02971c220a",
   "execution_count": 2
  },
  {
   "cell_type": "code",
   "outputs": [
    {
     "name": "stdout",
     "output_type": "stream",
     "text": [
      "1\n",
      "odict_keys(['template_images', 'template_anno', 'search_images', 'search_anno', 'dataset', 'test_class', 'valid'])\n",
      "[None, None, None, 'train', None, None, None, None, None, None, None, None, 'train', None, None, None]\n",
      "['visevent', 'LasHeR', 'visevent', 'DepthTrack', 'LasHeR', 'visevent', 'LasHeR', 'visevent', 'visevent', 'visevent', 'LasHeR', 'LasHeR', 'DepthTrack', 'visevent', 'LasHeR', 'visevent']\n"
     ]
    }
   ],
   "source": [
    "\n",
    "\n",
    "for i,data in enumerate(loader_train,1):\n",
    "    print(i)\n",
    "    \n",
    "    print(data.keys())\n",
    "    print(data['test_class'])\n",
    "    print(data['dataset'])\n",
    "    break   \n",
    "\n",
    "    "
   ],
   "metadata": {
    "collapsed": false,
    "ExecuteTime": {
     "end_time": "2024-04-14T03:21:05.708396300Z",
     "start_time": "2024-04-14T03:21:00.622340800Z"
    }
   },
   "id": "c8b450feb5126d1c",
   "execution_count": 5
  }
 ],
 "metadata": {
  "kernelspec": {
   "display_name": "Python 3",
   "language": "python",
   "name": "python3"
  },
  "language_info": {
   "codemirror_mode": {
    "name": "ipython",
    "version": 2
   },
   "file_extension": ".py",
   "mimetype": "text/x-python",
   "name": "python",
   "nbconvert_exporter": "python",
   "pygments_lexer": "ipython2",
   "version": "2.7.6"
  }
 },
 "nbformat": 4,
 "nbformat_minor": 5
}
