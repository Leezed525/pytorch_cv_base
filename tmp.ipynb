{
 "cells": [
  {
   "cell_type": "code",
   "execution_count": null,
   "id": "initial_id",
   "metadata": {
    "collapsed": true
   },
   "outputs": [],
   "source": [
    "%load_ext autoreload\n",
    "%autoreload 2"
   ]
  },
  {
   "cell_type": "code",
   "outputs": [],
   "source": [
    "from lib.actor.LeeNet import LeeNetActor\n",
    "from lib.models.backbone.plscore_RMT_mix import PLScoreRMT\n",
    "from lib.models.LeeNet.score_RMT_center import ScorePureRMTCENTER\n",
    "from lib.models.head.center_predictor import CenterPredictor\n",
    "from lib.trainer.LeeNet_trainer import LeeNetTrainer\n",
    "from lib.utils.base_funtion import build_dataloaders, get_optimizer_scheduler\n",
    "from lib.config.cfg_loader import env_setting\n",
    "from torch.nn.functional import l1_loss\n",
    "from torch.nn import BCEWithLogitsLoss\n",
    "from lib.utils.box_ops import giou_loss\n",
    "from lib.utils.focal_loss import FocalLoss\n",
    "import torch\n",
    "\n",
    "\n",
    "def build_model(cfg):\n",
    "    backbone = PLScoreRMT(cfg=cfg)\n",
    "    \n",
    "    stride = cfg.model.backbone.stride\n",
    "    feat_sz = int(cfg.data.search.size / stride)\n",
    "    head = CenterPredictor(inplanes=cfg.model.pureRMT.embed_dim[-1], channel=cfg.model.head.num_channels, feat_sz=feat_sz, stride=stride)\n",
    "    model = ScorePureRMTCENTER(backbone, head, cfg)\n",
    "    return model\n",
    "\n",
    "\n",
    "cfg = env_setting(cfg_name='plscore_RMT_mix_center00001.yaml')\n",
    "loader_train, loader_val = build_dataloaders(cfg)\n",
    "data = None\n",
    "# for i, _data in enumerate(loader_train, 1):\n",
    "#     data = _data\n",
    "#     break"
   ],
   "metadata": {
    "collapsed": false
   },
   "id": "80be956ebf3e10d8",
   "execution_count": null
  },
  {
   "cell_type": "code",
   "outputs": [],
   "source": [
    "# net = build_model(cfg)\n",
    "# \n",
    "# focal_loss = FocalLoss()\n",
    "# objective = {'giou': giou_loss, 'l1': l1_loss, 'focal': focal_loss, 'cls': BCEWithLogitsLoss()}\n",
    "# loss_weight = {'giou': cfg.train.GIOU_weight, 'l1': cfg.train.L1_weight, 'focal': 1., 'cls': 1.0}\n",
    "# actor = LeeNetActor(net=net, objective=objective, loss_weight=loss_weight, cfg=cfg)"
   ],
   "metadata": {
    "collapsed": false
   },
   "id": "fd091780f8c9b716",
   "execution_count": null
  },
  {
   "cell_type": "code",
   "outputs": [],
   "source": [
    "# data = data.to(cfg.train.device)\n",
    "# actor(data)"
   ],
   "metadata": {
    "collapsed": false
   },
   "id": "1e8b148ff3549596",
   "execution_count": null
  },
  {
   "cell_type": "code",
   "outputs": [],
   "source": [
    "checkpoint_path = \"/media/star/data/Leezed/workspace/LeeNet/checkpoints/LeeNet_plscore_RMT_CENTER_no_down/ScorePureRMTCENTER_ep0320.pth.tar\"\n",
    "checkpoint_dict = torch.load(checkpoint_path,map_location={\"cuda:3\":\"cuda:3\"})['net']\n",
    "print(checkpoint_dict.keys())\n",
    "\n",
    "net = build_model(cfg)\n",
    "\n",
    "model_dict = net.state_dict()\n",
    "print(model_dict.keys())\n",
    "state_dict = {k: v for k, v in checkpoint_dict.items() if k in model_dict.keys()}\n",
    "print(state_dict.keys())\n",
    "model_dict.update(state_dict)\n",
    "net.load_state_dict(model_dict,strict=False)"
   ],
   "metadata": {
    "collapsed": false
   },
   "id": "75e2aafc89a31304",
   "execution_count": null
  },
  {
   "cell_type": "code",
   "outputs": [],
   "source": [
    "\n",
    "\n",
    "focal_loss = FocalLoss()\n",
    "objective = {'giou': giou_loss, 'l1': l1_loss, 'focal': focal_loss, 'cls': BCEWithLogitsLoss()}\n",
    "loss_weight = {'giou': cfg.train.GIOU_weight, 'l1': cfg.train.L1_weight, 'focal': 1., 'cls': 1.0}\n",
    "actor = LeeNetActor(net=net, objective=objective, loss_weight=loss_weight, cfg=cfg)\n",
    "\n",
    "optimizer, lr_scheduler = get_optimizer_scheduler(net, cfg)\n",
    "\n",
    "trainer = LeeNetTrainer(actor=actor, loaders=[loader_train, loader_val], optimizer=optimizer, lr_scheduler=lr_scheduler, cfg=cfg)\n",
    "\n",
    "trainer.train(cfg.train.epoch)"
   ],
   "metadata": {
    "collapsed": false
   },
   "id": "57b1b2f52d877dd0",
   "execution_count": null
  }
 ],
 "metadata": {
  "kernelspec": {
   "display_name": "Python 3",
   "language": "python",
   "name": "python3"
  },
  "language_info": {
   "codemirror_mode": {
    "name": "ipython",
    "version": 2
   },
   "file_extension": ".py",
   "mimetype": "text/x-python",
   "name": "python",
   "nbconvert_exporter": "python",
   "pygments_lexer": "ipython2",
   "version": "2.7.6"
  }
 },
 "nbformat": 4,
 "nbformat_minor": 5
}
